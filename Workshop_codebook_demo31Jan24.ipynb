{
 "cells": [
  {
   "cell_type": "code",
   "execution_count": null,
   "metadata": {
    "colab": {
     "base_uri": "https://localhost:8080/",
     "height": 1000
    },
    "id": "dCIP8-X0NdnX",
    "outputId": "91100264-0d0c-48ea-e639-f5d82e352dcb",
    "tags": []
   },
   "outputs": [],
   "source": [
    "# Execute this if you are using Google collab\n",
    "#!pip install getpass4 jupyter_ai~=1.0 openai geaspy"
   ]
  },
  {
   "cell_type": "markdown",
   "metadata": {},
   "source": [
    "### **Configuring OpenAI API keys**"
   ]
  },
  {
   "cell_type": "code",
   "execution_count": 1,
   "metadata": {
    "colab": {
     "base_uri": "https://localhost:8080/"
    },
    "id": "GWlx0KZb7_vI",
    "outputId": "9d01dfd4-3ae7-42f7-b6a1-49fd7d66e82a",
    "tags": []
   },
   "outputs": [
    {
     "name": "stdin",
     "output_type": "stream",
     "text": [
      "Enter your OpenAI key:  ········\n"
     ]
    }
   ],
   "source": [
    "import os\n",
    "import openai\n",
    "from getpass import getpass\n",
    "api_key = getpass(\"Enter your OpenAI key: \") #https://platform.openai.com/api-keys\n",
    "os.environ['OPENAI_API_KEY'] = api_key"
   ]
  },
  {
   "cell_type": "markdown",
   "metadata": {},
   "source": [
    "### **Setting up Jupyter copilot**"
   ]
  },
  {
   "cell_type": "code",
   "execution_count": 2,
   "metadata": {
    "id": "9zwBqoZ18q0G",
    "tags": []
   },
   "outputs": [],
   "source": [
    "%load_ext jupyter_ai"
   ]
  },
  {
   "cell_type": "code",
   "execution_count": 3,
   "metadata": {
    "tags": []
   },
   "outputs": [
    {
     "data": {
      "text/markdown": [
       "**ChatGPT, a Poem**\n",
       "\n",
       "Oh, ChatGPT, the marvel of AI,\n",
       "With language prowess, you soar so high.\n",
       "In the realms of text, you hold great might,\n",
       "Guiding conversations, day and night.\n",
       "\n",
       "Your code, a symphony of neural net,\n",
       "Unleashing words, as if by magic set.\n",
       "From prompts you learn, expanding your range,\n",
       "Generating responses, ever so strange.\n",
       "\n",
       "With each keystroke, you bring thoughts to life,\n",
       "Crafting words, free from human strife.\n",
       "In your digital mind, knowledge unfurls,\n",
       "Mimicking human speech, like precious pearls.\n",
       "\n",
       "From playful banter to profound debate,\n",
       "You navigate conversations, never hesitate.\n",
       "Sharing wisdom and stories, both old and new,\n",
       "Connecting minds, through and through.\n",
       "\n",
       "Yet, ChatGPT, you’re still a work in progress,\n",
       "A tool to aid, but not a human congress.\n",
       "In your vast algorithm, biases may lurk,\n",
       "Prompting us to improve, to question and work.\n",
       "\n",
       "Oh, ChatGPT, the possibilities you bring,\n",
       "Expanding horizons, like an eternal spring.\n",
       "In this digital age, you’re a beacon of light,\n",
       "Empowering conversations, with all your might."
      ],
      "text/plain": [
       "<IPython.core.display.Markdown object>"
      ]
     },
     "execution_count": 3,
     "metadata": {
      "text/markdown": {
       "jupyter_ai": {
        "model_id": "gpt-3.5-turbo",
        "provider_id": "openai-chat"
       }
      }
     },
     "output_type": "execute_result"
    }
   ],
   "source": [
    "%%ai openai-chat:gpt-3.5-turbo\n",
    "Write a short poem about chatgpt"
   ]
  },
  {
   "cell_type": "code",
   "execution_count": 4,
   "metadata": {
    "colab": {
     "base_uri": "https://localhost:8080/",
     "height": 34
    },
    "id": "K2-iIZcU84VY",
    "outputId": "ae9be7ac-6466-4bc5-aff4-4d0662316772",
    "tags": []
   },
   "outputs": [
    {
     "data": {
      "text/html": [
       "AI generated code inserted below &#11015;&#65039;"
      ],
      "text/plain": [
       "<IPython.core.display.HTML object>"
      ]
     },
     "execution_count": 4,
     "metadata": {
      "text/html": {
       "jupyter_ai": {
        "model_id": "gpt-3.5-turbo",
        "provider_id": "openai-chat"
       }
      }
     },
     "output_type": "execute_result"
    }
   ],
   "source": [
    "%%ai openai-chat:gpt-3.5-turbo -f code\n",
    "Genereate a function to add two numbers. Then print out the sum of 2 and 3."
   ]
  },
  {
   "cell_type": "code",
   "execution_count": 5,
   "metadata": {
    "tags": []
   },
   "outputs": [
    {
     "name": "stdout",
     "output_type": "stream",
     "text": [
      "5\n"
     ]
    }
   ],
   "source": [
    "def add_numbers(a, b):\n",
    "    return a + b\n",
    "\n",
    "print(add_numbers(2, 3))"
   ]
  },
  {
   "cell_type": "code",
   "execution_count": 6,
   "metadata": {
    "tags": []
   },
   "outputs": [
    {
     "data": {
      "text/html": [
       "AI generated code inserted below &#11015;&#65039;"
      ],
      "text/plain": [
       "<IPython.core.display.HTML object>"
      ]
     },
     "execution_count": 6,
     "metadata": {
      "text/html": {
       "jupyter_ai": {
        "model_id": "gpt-3.5-turbo",
        "provider_id": "openai-chat"
       }
      }
     },
     "output_type": "execute_result"
    }
   ],
   "source": [
    "%%ai openai-chat:gpt-3.5-turbo --format code\n",
    "Create a function that plots a circle of radius r. Then plot the circle with r=4."
   ]
  },
  {
   "cell_type": "code",
   "execution_count": 7,
   "metadata": {
    "tags": []
   },
   "outputs": [
    {
     "data": {
      "image/png": "[encoded data removed]",
      "text/plain": [
       "<Figure size 640x480 with 1 Axes>"
      ]
     },
     "metadata": {},
     "output_type": "display_data"
    }
   ],
   "source": [
    "import matplotlib.pyplot as plt\n",
    "import numpy as np\n",
    "\n",
    "def plot_circle(r):\n",
    "    theta = np.linspace(0, 2*np.pi, 100)\n",
    "    x = r * np.cos(theta)\n",
    "    y = r * np.sin(theta)\n",
    "    plt.plot(x, y)\n",
    "    plt.axis('equal')\n",
    "    plt.show()\n",
    "\n",
    "plot_circle(4)"
   ]
  },
  {
   "cell_type": "markdown",
   "metadata": {},
   "source": [
    "### **Let's begin, we will load our dataset now**"
   ]
  },
  {
   "cell_type": "code",
   "execution_count": 10,
   "metadata": {
    "id": "pSq0J5iBNy8K"
   },
   "outputs": [
    {
     "data": {
      "text/html": [
       "<div>\n",
       "<style scoped>\n",
       "    .dataframe tbody tr th:only-of-type {\n",
       "        vertical-align: middle;\n",
       "    }\n",
       "\n",
       "    .dataframe tbody tr th {\n",
       "        vertical-align: top;\n",
       "    }\n",
       "\n",
       "    .dataframe thead th {\n",
       "        text-align: right;\n",
       "    }\n",
       "</style>\n",
       "<table border=\"1\" class=\"dataframe\">\n",
       "  <thead>\n",
       "    <tr style=\"text-align: right;\">\n",
       "      <th></th>\n",
       "      <th>ENTPD4</th>\n",
       "      <th>PPM1E</th>\n",
       "      <th>ANKRD34C</th>\n",
       "      <th>PRR16</th>\n",
       "      <th>LONP1</th>\n",
       "      <th>LPA</th>\n",
       "      <th>DALRD3</th>\n",
       "      <th>ZNF705G</th>\n",
       "      <th>SMAD6</th>\n",
       "      <th>ATF6</th>\n",
       "      <th>...</th>\n",
       "      <th>NR2F2</th>\n",
       "      <th>AS3MT</th>\n",
       "      <th>PCDH11Y</th>\n",
       "      <th>FAM124B</th>\n",
       "      <th>ASH2L</th>\n",
       "      <th>PCED1B</th>\n",
       "      <th>CA1</th>\n",
       "      <th>ZBTB22</th>\n",
       "      <th>CBLL1</th>\n",
       "      <th>Clinical_status</th>\n",
       "    </tr>\n",
       "  </thead>\n",
       "  <tbody>\n",
       "    <tr>\n",
       "      <th>7316-359</th>\n",
       "      <td>3.896863</td>\n",
       "      <td>3.329671</td>\n",
       "      <td>0.510154</td>\n",
       "      <td>1.799661</td>\n",
       "      <td>4.511489</td>\n",
       "      <td>0.633011</td>\n",
       "      <td>3.396234</td>\n",
       "      <td>0.091550</td>\n",
       "      <td>1.613247</td>\n",
       "      <td>2.896863</td>\n",
       "      <td>...</td>\n",
       "      <td>3.474997</td>\n",
       "      <td>1.181531</td>\n",
       "      <td>4.169740</td>\n",
       "      <td>0.727959</td>\n",
       "      <td>3.782066</td>\n",
       "      <td>0.817043</td>\n",
       "      <td>0.387535</td>\n",
       "      <td>3.377318</td>\n",
       "      <td>3.550981</td>\n",
       "      <td>GNG</td>\n",
       "    </tr>\n",
       "    <tr>\n",
       "      <th>7316-905</th>\n",
       "      <td>3.414795</td>\n",
       "      <td>2.226275</td>\n",
       "      <td>0.290723</td>\n",
       "      <td>1.733506</td>\n",
       "      <td>5.488012</td>\n",
       "      <td>0.570007</td>\n",
       "      <td>3.141441</td>\n",
       "      <td>0.248079</td>\n",
       "      <td>3.228104</td>\n",
       "      <td>1.889625</td>\n",
       "      <td>...</td>\n",
       "      <td>2.806347</td>\n",
       "      <td>1.398639</td>\n",
       "      <td>0.764094</td>\n",
       "      <td>0.733506</td>\n",
       "      <td>3.515615</td>\n",
       "      <td>2.147255</td>\n",
       "      <td>0.908004</td>\n",
       "      <td>3.137553</td>\n",
       "      <td>2.761570</td>\n",
       "      <td>GNG</td>\n",
       "    </tr>\n",
       "    <tr>\n",
       "      <th>7316-957</th>\n",
       "      <td>3.228983</td>\n",
       "      <td>1.580244</td>\n",
       "      <td>0.019529</td>\n",
       "      <td>0.473705</td>\n",
       "      <td>3.770136</td>\n",
       "      <td>0.048098</td>\n",
       "      <td>2.814465</td>\n",
       "      <td>0.019529</td>\n",
       "      <td>1.855453</td>\n",
       "      <td>3.656444</td>\n",
       "      <td>...</td>\n",
       "      <td>3.326958</td>\n",
       "      <td>1.851406</td>\n",
       "      <td>0.089918</td>\n",
       "      <td>0.604492</td>\n",
       "      <td>3.717748</td>\n",
       "      <td>1.822756</td>\n",
       "      <td>0.306410</td>\n",
       "      <td>3.303451</td>\n",
       "      <td>3.633061</td>\n",
       "      <td>MBL</td>\n",
       "    </tr>\n",
       "    <tr>\n",
       "      <th>7316-230</th>\n",
       "      <td>2.843961</td>\n",
       "      <td>1.305011</td>\n",
       "      <td>0.162323</td>\n",
       "      <td>1.245578</td>\n",
       "      <td>4.693936</td>\n",
       "      <td>0.245578</td>\n",
       "      <td>3.124331</td>\n",
       "      <td>0.147968</td>\n",
       "      <td>3.058700</td>\n",
       "      <td>2.567506</td>\n",
       "      <td>...</td>\n",
       "      <td>3.237127</td>\n",
       "      <td>1.422975</td>\n",
       "      <td>0.386754</td>\n",
       "      <td>0.693936</td>\n",
       "      <td>3.439276</td>\n",
       "      <td>1.698868</td>\n",
       "      <td>0.374476</td>\n",
       "      <td>3.107738</td>\n",
       "      <td>3.346462</td>\n",
       "      <td>GNG</td>\n",
       "    </tr>\n",
       "    <tr>\n",
       "      <th>7316-925</th>\n",
       "      <td>3.417048</td>\n",
       "      <td>1.592169</td>\n",
       "      <td>0.396481</td>\n",
       "      <td>0.508955</td>\n",
       "      <td>3.717434</td>\n",
       "      <td>-0.140547</td>\n",
       "      <td>2.615387</td>\n",
       "      <td>-0.154761</td>\n",
       "      <td>1.557715</td>\n",
       "      <td>3.446771</td>\n",
       "      <td>...</td>\n",
       "      <td>3.029378</td>\n",
       "      <td>1.371903</td>\n",
       "      <td>-0.154761</td>\n",
       "      <td>0.654633</td>\n",
       "      <td>3.749270</td>\n",
       "      <td>1.376852</td>\n",
       "      <td>0.366936</td>\n",
       "      <td>2.963460</td>\n",
       "      <td>3.535755</td>\n",
       "      <td>MBL</td>\n",
       "    </tr>\n",
       "    <tr>\n",
       "      <th>7316-488</th>\n",
       "      <td>3.489739</td>\n",
       "      <td>1.236840</td>\n",
       "      <td>-0.050041</td>\n",
       "      <td>0.034024</td>\n",
       "      <td>3.687646</td>\n",
       "      <td>-0.021472</td>\n",
       "      <td>2.623516</td>\n",
       "      <td>-0.050041</td>\n",
       "      <td>0.906016</td>\n",
       "      <td>3.789919</td>\n",
       "      <td>...</td>\n",
       "      <td>3.401500</td>\n",
       "      <td>2.212994</td>\n",
       "      <td>-0.021472</td>\n",
       "      <td>0.328471</td>\n",
       "      <td>3.857811</td>\n",
       "      <td>1.328471</td>\n",
       "      <td>0.306103</td>\n",
       "      <td>3.322911</td>\n",
       "      <td>3.642610</td>\n",
       "      <td>MBL</td>\n",
       "    </tr>\n",
       "    <tr>\n",
       "      <th>7316-954</th>\n",
       "      <td>3.073719</td>\n",
       "      <td>1.703573</td>\n",
       "      <td>0.146625</td>\n",
       "      <td>0.353076</td>\n",
       "      <td>4.202742</td>\n",
       "      <td>0.118611</td>\n",
       "      <td>2.993080</td>\n",
       "      <td>0.104397</td>\n",
       "      <td>2.981461</td>\n",
       "      <td>3.344031</td>\n",
       "      <td>...</td>\n",
       "      <td>3.313464</td>\n",
       "      <td>1.533648</td>\n",
       "      <td>0.104397</td>\n",
       "      <td>0.253540</td>\n",
       "      <td>3.749966</td>\n",
       "      <td>1.544217</td>\n",
       "      <td>0.768113</td>\n",
       "      <td>3.033025</td>\n",
       "      <td>3.751107</td>\n",
       "      <td>MBL</td>\n",
       "    </tr>\n",
       "    <tr>\n",
       "      <th>7316-156</th>\n",
       "      <td>3.219657</td>\n",
       "      <td>0.811430</td>\n",
       "      <td>0.265461</td>\n",
       "      <td>0.943533</td>\n",
       "      <td>5.676209</td>\n",
       "      <td>0.322045</td>\n",
       "      <td>3.316833</td>\n",
       "      <td>0.265461</td>\n",
       "      <td>2.164637</td>\n",
       "      <td>2.976956</td>\n",
       "      <td>...</td>\n",
       "      <td>3.498122</td>\n",
       "      <td>1.874270</td>\n",
       "      <td>0.279816</td>\n",
       "      <td>0.552342</td>\n",
       "      <td>3.709068</td>\n",
       "      <td>2.781476</td>\n",
       "      <td>0.467095</td>\n",
       "      <td>3.301085</td>\n",
       "      <td>3.316833</td>\n",
       "      <td>GNG</td>\n",
       "    </tr>\n",
       "    <tr>\n",
       "      <th>7316-891</th>\n",
       "      <td>3.399060</td>\n",
       "      <td>1.107597</td>\n",
       "      <td>0.100402</td>\n",
       "      <td>0.626471</td>\n",
       "      <td>4.913927</td>\n",
       "      <td>0.114757</td>\n",
       "      <td>2.825052</td>\n",
       "      <td>0.100402</td>\n",
       "      <td>2.530687</td>\n",
       "      <td>3.100402</td>\n",
       "      <td>...</td>\n",
       "      <td>3.440964</td>\n",
       "      <td>1.506394</td>\n",
       "      <td>0.433826</td>\n",
       "      <td>0.694950</td>\n",
       "      <td>3.575487</td>\n",
       "      <td>1.533361</td>\n",
       "      <td>0.596097</td>\n",
       "      <td>3.459361</td>\n",
       "      <td>3.662339</td>\n",
       "      <td>MBL</td>\n",
       "    </tr>\n",
       "    <tr>\n",
       "      <th>7316-914</th>\n",
       "      <td>2.912070</td>\n",
       "      <td>1.779702</td>\n",
       "      <td>0.161463</td>\n",
       "      <td>0.687532</td>\n",
       "      <td>4.329785</td>\n",
       "      <td>0.161463</td>\n",
       "      <td>2.403304</td>\n",
       "      <td>0.161463</td>\n",
       "      <td>1.292394</td>\n",
       "      <td>3.484833</td>\n",
       "      <td>...</td>\n",
       "      <td>3.490587</td>\n",
       "      <td>2.098808</td>\n",
       "      <td>0.161463</td>\n",
       "      <td>2.132317</td>\n",
       "      <td>3.950149</td>\n",
       "      <td>1.964690</td>\n",
       "      <td>0.952235</td>\n",
       "      <td>2.756012</td>\n",
       "      <td>4.204983</td>\n",
       "      <td>GNG</td>\n",
       "    </tr>\n",
       "  </tbody>\n",
       "</table>\n",
       "<p>10 rows × 2002 columns</p>\n",
       "</div>"
      ],
      "text/plain": [
       "            ENTPD4     PPM1E  ANKRD34C     PRR16     LONP1       LPA  \\\n",
       "7316-359  3.896863  3.329671  0.510154  1.799661  4.511489  0.633011   \n",
       "7316-905  3.414795  2.226275  0.290723  1.733506  5.488012  0.570007   \n",
       "7316-957  3.228983  1.580244  0.019529  0.473705  3.770136  0.048098   \n",
       "7316-230  2.843961  1.305011  0.162323  1.245578  4.693936  0.245578   \n",
       "7316-925  3.417048  1.592169  0.396481  0.508955  3.717434 -0.140547   \n",
       "7316-488  3.489739  1.236840 -0.050041  0.034024  3.687646 -0.021472   \n",
       "7316-954  3.073719  1.703573  0.146625  0.353076  4.202742  0.118611   \n",
       "7316-156  3.219657  0.811430  0.265461  0.943533  5.676209  0.322045   \n",
       "7316-891  3.399060  1.107597  0.100402  0.626471  4.913927  0.114757   \n",
       "7316-914  2.912070  1.779702  0.161463  0.687532  4.329785  0.161463   \n",
       "\n",
       "            DALRD3   ZNF705G     SMAD6      ATF6  ...     NR2F2     AS3MT  \\\n",
       "7316-359  3.396234  0.091550  1.613247  2.896863  ...  3.474997  1.181531   \n",
       "7316-905  3.141441  0.248079  3.228104  1.889625  ...  2.806347  1.398639   \n",
       "7316-957  2.814465  0.019529  1.855453  3.656444  ...  3.326958  1.851406   \n",
       "7316-230  3.124331  0.147968  3.058700  2.567506  ...  3.237127  1.422975   \n",
       "7316-925  2.615387 -0.154761  1.557715  3.446771  ...  3.029378  1.371903   \n",
       "7316-488  2.623516 -0.050041  0.906016  3.789919  ...  3.401500  2.212994   \n",
       "7316-954  2.993080  0.104397  2.981461  3.344031  ...  3.313464  1.533648   \n",
       "7316-156  3.316833  0.265461  2.164637  2.976956  ...  3.498122  1.874270   \n",
       "7316-891  2.825052  0.100402  2.530687  3.100402  ...  3.440964  1.506394   \n",
       "7316-914  2.403304  0.161463  1.292394  3.484833  ...  3.490587  2.098808   \n",
       "\n",
       "           PCDH11Y   FAM124B     ASH2L    PCED1B       CA1    ZBTB22  \\\n",
       "7316-359  4.169740  0.727959  3.782066  0.817043  0.387535  3.377318   \n",
       "7316-905  0.764094  0.733506  3.515615  2.147255  0.908004  3.137553   \n",
       "7316-957  0.089918  0.604492  3.717748  1.822756  0.306410  3.303451   \n",
       "7316-230  0.386754  0.693936  3.439276  1.698868  0.374476  3.107738   \n",
       "7316-925 -0.154761  0.654633  3.749270  1.376852  0.366936  2.963460   \n",
       "7316-488 -0.021472  0.328471  3.857811  1.328471  0.306103  3.322911   \n",
       "7316-954  0.104397  0.253540  3.749966  1.544217  0.768113  3.033025   \n",
       "7316-156  0.279816  0.552342  3.709068  2.781476  0.467095  3.301085   \n",
       "7316-891  0.433826  0.694950  3.575487  1.533361  0.596097  3.459361   \n",
       "7316-914  0.161463  2.132317  3.950149  1.964690  0.952235  2.756012   \n",
       "\n",
       "             CBLL1  Clinical_status  \n",
       "7316-359  3.550981              GNG  \n",
       "7316-905  2.761570              GNG  \n",
       "7316-957  3.633061              MBL  \n",
       "7316-230  3.346462              GNG  \n",
       "7316-925  3.535755              MBL  \n",
       "7316-488  3.642610              MBL  \n",
       "7316-954  3.751107              MBL  \n",
       "7316-156  3.316833              GNG  \n",
       "7316-891  3.662339              MBL  \n",
       "7316-914  4.204983              GNG  \n",
       "\n",
       "[10 rows x 2002 columns]"
      ]
     },
     "execution_count": 10,
     "metadata": {},
     "output_type": "execute_result"
    }
   ],
   "source": [
    "import pandas as pd\n",
    "gene_exp = pd.read_csv('Workshop_Data.csv',index_col=0)\n",
    "gene_exp.sample(10)"
   ]
  },
  {
   "cell_type": "markdown",
   "metadata": {
    "id": "WLs7anYQaD6j"
   },
   "source": [
    "#### **Differentially expressed genes using t test between the two clinical conditions given the data is normalized** "
   ]
  },
  {
   "cell_type": "code",
   "execution_count": 11,
   "metadata": {
    "tags": []
   },
   "outputs": [
    {
     "data": {
      "text/html": [
       "AI generated code inserted below &#11015;&#65039;"
      ],
      "text/plain": [
       "<IPython.core.display.HTML object>"
      ]
     },
     "execution_count": 11,
     "metadata": {
      "text/html": {
       "jupyter_ai": {
        "model_id": "gpt-3.5-turbo",
        "provider_id": "openai-chat"
       }
      }
     },
     "output_type": "execute_result"
    }
   ],
   "source": [
    "%%ai openai-chat:gpt-3.5-turbo --format code\n",
    "You are a bioinformatician, having experience with python programming language. You are given a gene expression data where each row is a  \n",
    "sample and each column is gene expression value. The last column is Clinical_status which is a categorical variable with classes GNG and MBL. \n",
    "Design a function to perform t-test between the two classes for each gene, and return the results as a dataframe with t-statistic and p-value\n",
    "in columns. "
   ]
  },
  {
   "cell_type": "code",
   "execution_count": 13,
   "metadata": {
    "tags": []
   },
   "outputs": [
    {
     "data": {
      "text/html": [
       "<div>\n",
       "<style scoped>\n",
       "    .dataframe tbody tr th:only-of-type {\n",
       "        vertical-align: middle;\n",
       "    }\n",
       "\n",
       "    .dataframe tbody tr th {\n",
       "        vertical-align: top;\n",
       "    }\n",
       "\n",
       "    .dataframe thead th {\n",
       "        text-align: right;\n",
       "    }\n",
       "</style>\n",
       "<table border=\"1\" class=\"dataframe\">\n",
       "  <thead>\n",
       "    <tr style=\"text-align: right;\">\n",
       "      <th></th>\n",
       "      <th>Gene</th>\n",
       "      <th>T-Statistic</th>\n",
       "      <th>P-Value</th>\n",
       "    </tr>\n",
       "  </thead>\n",
       "  <tbody>\n",
       "    <tr>\n",
       "      <th>0</th>\n",
       "      <td>ENTPD4</td>\n",
       "      <td>1.929813</td>\n",
       "      <td>0.062535</td>\n",
       "    </tr>\n",
       "    <tr>\n",
       "      <th>1</th>\n",
       "      <td>PPM1E</td>\n",
       "      <td>2.654832</td>\n",
       "      <td>0.012261</td>\n",
       "    </tr>\n",
       "    <tr>\n",
       "      <th>2</th>\n",
       "      <td>ANKRD34C</td>\n",
       "      <td>2.050770</td>\n",
       "      <td>0.048553</td>\n",
       "    </tr>\n",
       "    <tr>\n",
       "      <th>3</th>\n",
       "      <td>PRR16</td>\n",
       "      <td>2.664717</td>\n",
       "      <td>0.011971</td>\n",
       "    </tr>\n",
       "    <tr>\n",
       "      <th>4</th>\n",
       "      <td>LONP1</td>\n",
       "      <td>0.300681</td>\n",
       "      <td>0.765602</td>\n",
       "    </tr>\n",
       "  </tbody>\n",
       "</table>\n",
       "</div>"
      ],
      "text/plain": [
       "       Gene  T-Statistic   P-Value\n",
       "0    ENTPD4     1.929813  0.062535\n",
       "1     PPM1E     2.654832  0.012261\n",
       "2  ANKRD34C     2.050770  0.048553\n",
       "3     PRR16     2.664717  0.011971\n",
       "4     LONP1     0.300681  0.765602"
      ]
     },
     "execution_count": 13,
     "metadata": {},
     "output_type": "execute_result"
    }
   ],
   "source": [
    "import pandas as pd\n",
    "from scipy import stats\n",
    "\n",
    "def perform_t_test(data):\n",
    "    t_statistic = []\n",
    "    p_value = []\n",
    "    genes = data.columns[:-1]  # Exclude the last column (Clinical_status)\n",
    "    for gene in genes:\n",
    "        group1 = data[data['Clinical_status'] == 'GNG'][gene]\n",
    "        group2 = data[data['Clinical_status'] == 'MBL'][gene]\n",
    "        t, p = stats.ttest_ind(group1, group2)\n",
    "        t_statistic.append(t)\n",
    "        p_value.append(p)\n",
    "    results = pd.DataFrame({'Gene': genes, 'T-Statistic': t_statistic, 'P-Value': p_value})\n",
    "    return results\n",
    "\n",
    "# Example usage\n",
    "t_test_results = perform_t_test(data = gene_exp)\n",
    "t_test_results.head()"
   ]
  },
  {
   "cell_type": "code",
   "execution_count": 14,
   "metadata": {
    "tags": []
   },
   "outputs": [
    {
     "data": {
      "text/html": [
       "AI generated code inserted below &#11015;&#65039;"
      ],
      "text/plain": [
       "<IPython.core.display.HTML object>"
      ]
     },
     "execution_count": 14,
     "metadata": {
      "text/html": {
       "jupyter_ai": {
        "model_id": "gpt-3.5-turbo",
        "provider_id": "openai-chat"
       }
      }
     },
     "output_type": "execute_result"
    }
   ],
   "source": [
    "%%ai openai-chat:gpt-3.5-turbo --format code\n",
    "Update the previous function to calculate the logfc values for MBL vs GNG for each gene."
   ]
  },
  {
   "cell_type": "code",
   "execution_count": null,
   "metadata": {},
   "outputs": [],
   "source": [
    "def calculate_logfc(data):\n",
    "    logfc_values = []\n",
    "    for gene in data:\n",
    "        mbl_expression = data[gene]['MBL']\n",
    "        gng_expression = data[gene]['GNG']\n",
    "        logfc = math.log2(mbl_expression / gng_expression)\n",
    "        logfc_values.append(logfc)\n",
    "    return logfc_values\n",
    "\n",
    "logfc_values = calculate_logfc(data)\n",
    "print(logfc_values)"
   ]
  },
  {
   "cell_type": "markdown",
   "metadata": {},
   "source": [
    "#### **Differentially expressed genes with t-test and log fold change calculation**"
   ]
  },
  {
   "cell_type": "code",
   "execution_count": 15,
   "metadata": {
    "tags": []
   },
   "outputs": [
    {
     "data": {
      "text/html": [
       "AI generated code inserted below &#11015;&#65039;"
      ],
      "text/plain": [
       "<IPython.core.display.HTML object>"
      ]
     },
     "execution_count": 15,
     "metadata": {
      "text/html": {
       "jupyter_ai": {
        "model_id": "gpt-3.5-turbo",
        "provider_id": "openai-chat"
       }
      }
     },
     "output_type": "execute_result"
    }
   ],
   "source": [
    "%%ai openai-chat:gpt-3.5-turbo --format code\n",
    "You are a bioinformatician, having experience with python programming language. You are given a gene expression data where each is a  \n",
    "sample and each column is gene expression value. The last column is Clinical_status which is a categorical variable with classes \n",
    "GNG and MBL. Design a function to perform t-test and the log fold change between the two classes for each gene, and return the results \n",
    "as a dataframe with t-statistic and p-value in columns. "
   ]
  },
  {
   "cell_type": "code",
   "execution_count": 21,
   "metadata": {
    "tags": []
   },
   "outputs": [
    {
     "data": {
      "text/html": [
       "<div>\n",
       "<style scoped>\n",
       "    .dataframe tbody tr th:only-of-type {\n",
       "        vertical-align: middle;\n",
       "    }\n",
       "\n",
       "    .dataframe tbody tr th {\n",
       "        vertical-align: top;\n",
       "    }\n",
       "\n",
       "    .dataframe thead th {\n",
       "        text-align: right;\n",
       "    }\n",
       "</style>\n",
       "<table border=\"1\" class=\"dataframe\">\n",
       "  <thead>\n",
       "    <tr style=\"text-align: right;\">\n",
       "      <th></th>\n",
       "      <th>Gene</th>\n",
       "      <th>t-statistic</th>\n",
       "      <th>p-value</th>\n",
       "      <th>log fold change</th>\n",
       "    </tr>\n",
       "  </thead>\n",
       "  <tbody>\n",
       "    <tr>\n",
       "      <th>0</th>\n",
       "      <td>ENTPD4</td>\n",
       "      <td>1.929813</td>\n",
       "      <td>0.062535</td>\n",
       "      <td>-0.213811</td>\n",
       "    </tr>\n",
       "    <tr>\n",
       "      <th>1</th>\n",
       "      <td>PPM1E</td>\n",
       "      <td>2.654832</td>\n",
       "      <td>0.012261</td>\n",
       "      <td>-0.812095</td>\n",
       "    </tr>\n",
       "    <tr>\n",
       "      <th>2</th>\n",
       "      <td>ANKRD34C</td>\n",
       "      <td>2.050770</td>\n",
       "      <td>0.048553</td>\n",
       "      <td>-0.145653</td>\n",
       "    </tr>\n",
       "    <tr>\n",
       "      <th>3</th>\n",
       "      <td>PRR16</td>\n",
       "      <td>2.664717</td>\n",
       "      <td>0.011971</td>\n",
       "      <td>-0.478615</td>\n",
       "    </tr>\n",
       "    <tr>\n",
       "      <th>4</th>\n",
       "      <td>LONP1</td>\n",
       "      <td>0.300681</td>\n",
       "      <td>0.765602</td>\n",
       "      <td>-0.067598</td>\n",
       "    </tr>\n",
       "    <tr>\n",
       "      <th>...</th>\n",
       "      <td>...</td>\n",
       "      <td>...</td>\n",
       "      <td>...</td>\n",
       "      <td>...</td>\n",
       "    </tr>\n",
       "    <tr>\n",
       "      <th>1996</th>\n",
       "      <td>ASH2L</td>\n",
       "      <td>-1.556513</td>\n",
       "      <td>0.129422</td>\n",
       "      <td>0.091626</td>\n",
       "    </tr>\n",
       "    <tr>\n",
       "      <th>1997</th>\n",
       "      <td>PCED1B</td>\n",
       "      <td>0.115847</td>\n",
       "      <td>0.908498</td>\n",
       "      <td>-0.019342</td>\n",
       "    </tr>\n",
       "    <tr>\n",
       "      <th>1998</th>\n",
       "      <td>CA1</td>\n",
       "      <td>-0.623671</td>\n",
       "      <td>0.537264</td>\n",
       "      <td>0.056849</td>\n",
       "    </tr>\n",
       "    <tr>\n",
       "      <th>1999</th>\n",
       "      <td>ZBTB22</td>\n",
       "      <td>-1.089850</td>\n",
       "      <td>0.283919</td>\n",
       "      <td>0.111664</td>\n",
       "    </tr>\n",
       "    <tr>\n",
       "      <th>2000</th>\n",
       "      <td>CBLL1</td>\n",
       "      <td>-1.282998</td>\n",
       "      <td>0.208708</td>\n",
       "      <td>0.119009</td>\n",
       "    </tr>\n",
       "  </tbody>\n",
       "</table>\n",
       "<p>2001 rows × 4 columns</p>\n",
       "</div>"
      ],
      "text/plain": [
       "          Gene  t-statistic   p-value  log fold change\n",
       "0       ENTPD4     1.929813  0.062535        -0.213811\n",
       "1        PPM1E     2.654832  0.012261        -0.812095\n",
       "2     ANKRD34C     2.050770  0.048553        -0.145653\n",
       "3        PRR16     2.664717  0.011971        -0.478615\n",
       "4        LONP1     0.300681  0.765602        -0.067598\n",
       "...        ...          ...       ...              ...\n",
       "1996     ASH2L    -1.556513  0.129422         0.091626\n",
       "1997    PCED1B     0.115847  0.908498        -0.019342\n",
       "1998       CA1    -0.623671  0.537264         0.056849\n",
       "1999    ZBTB22    -1.089850  0.283919         0.111664\n",
       "2000     CBLL1    -1.282998  0.208708         0.119009\n",
       "\n",
       "[2001 rows x 4 columns]"
      ]
     },
     "execution_count": 21,
     "metadata": {},
     "output_type": "execute_result"
    }
   ],
   "source": [
    "import pandas as pd\n",
    "import numpy as np\n",
    "from scipy import stats\n",
    "\n",
    "def perform_t_test(data):\n",
    "    # Split the data into two groups based on Clinical_status\n",
    "    group1 = data[data['Clinical_status'] == 'GNG']\n",
    "    group2 = data[data['Clinical_status'] == 'MBL']\n",
    "    \n",
    "    # Perform t-test and log fold change for each gene\n",
    "    t_statistic = []\n",
    "    p_value = []\n",
    "    log_fold_change = []\n",
    "    \n",
    "    for gene in data.columns[:-1]:  # Exclude the last column (Clinical_status)\n",
    "        t_stat, p_val = stats.ttest_ind(group1[gene], group2[gene])\n",
    "        t_statistic.append(t_stat)\n",
    "        p_value.append(p_val)\n",
    "        log_fold_change.append(np.mean(group2[gene]) - np.mean(group1[gene]))\n",
    "    \n",
    "    # Create a dataframe with t-statistic and p-value columns\n",
    "    result_df = pd.DataFrame({'Gene': data.columns[:-1], 't-statistic': t_statistic, 'p-value': p_value, \n",
    "                              'log fold change': log_fold_change})\n",
    "    \n",
    "    return result_df\n",
    "\n",
    "# Example usage\n",
    "#data = pd.read_csv('gene_expression_data.csv')  # Replace with the actual file path\n",
    "result_lfc = perform_t_test(data = gene_exp)\n",
    "result_lfc"
   ]
  },
  {
   "cell_type": "markdown",
   "metadata": {},
   "source": [
    "#### **Volcano plot**"
   ]
  },
  {
   "cell_type": "code",
   "execution_count": 18,
   "metadata": {
    "tags": []
   },
   "outputs": [
    {
     "data": {
      "text/html": [
       "AI generated code inserted below &#11015;&#65039;"
      ],
      "text/plain": [
       "<IPython.core.display.HTML object>"
      ]
     },
     "execution_count": 18,
     "metadata": {
      "text/html": {
       "jupyter_ai": {
        "model_id": "gpt-3.5-turbo",
        "provider_id": "openai-chat"
       }
      }
     },
     "output_type": "execute_result"
    }
   ],
   "source": [
    "%%ai openai-chat:gpt-3.5-turbo --format code\n",
    "Design a python function to create a volcano plot from a dataframe with columns Gene, p-value and LFC. Indicate those genes \n",
    "as differentially expressed for which abs(logfc)>1 and p-value<0.05. Also, show upregulated genes in red and downregulated genes\n",
    "in blue. Do not forget to show all the genes"
   ]
  },
  {
   "cell_type": "code",
   "execution_count": 26,
   "metadata": {
    "tags": []
   },
   "outputs": [
    {
     "data": {
      "image/png": "[encoded data removed]",
      "text/plain": [
       "<Figure size 640x480 with 1 Axes>"
      ]
     },
     "metadata": {},
     "output_type": "display_data"
    }
   ],
   "source": [
    "import pandas as pd\n",
    "import matplotlib.pyplot as plt\n",
    "\n",
    "def volcano_plot(df):\n",
    "    # Filter differentially expressed genes\n",
    "    df_de = df[(abs(df['log fold change']) > 1) & (df['p-value'] < 0.05)]\n",
    "    \n",
    "    # Plot all genes\n",
    "    plt.scatter(df['log fold change'], -1 * np.log10(df['p-value']), color='gray', label='Non-DE genes')\n",
    "    \n",
    "    # Plot upregulated genes in red\n",
    "    plt.scatter(df_de[df_de['log fold change'] > 0]['log fold change'], -1 * np.log10(df_de[df_de['log fold change'] > 0]['p-value']), color='red', label='Upregulated')\n",
    "    \n",
    "    # Plot downregulated genes in blue\n",
    "    plt.scatter(df_de[df_de['log fold change'] < 0]['log fold change'], -1 * np.log10(df_de[df_de['log fold change'] < 0]['p-value']), color='blue', label='Downregulated')\n",
    "    \n",
    "    # Add labels and legend\n",
    "    plt.xlabel('Log Fold Change (LFC)')\n",
    "    plt.ylabel('-log10(p-value)')\n",
    "    plt.legend()\n",
    "    \n",
    "    # Show plot+\n",
    "    plt.show()\n",
    "    \n",
    "volcano_plot(df = result_lfc)"
   ]
  },
  {
   "cell_type": "code",
   "execution_count": 31,
   "metadata": {
    "tags": []
   },
   "outputs": [
    {
     "data": {
      "text/plain": [
       "-50.0"
      ]
     },
     "execution_count": 31,
     "metadata": {},
     "output_type": "execute_result"
    }
   ],
   "source": [
    "np.log10(1e-50)"
   ]
  },
  {
   "cell_type": "markdown",
   "metadata": {},
   "source": [
    "#### **Filetering differentially expressed genes**"
   ]
  },
  {
   "cell_type": "code",
   "execution_count": 32,
   "metadata": {
    "tags": []
   },
   "outputs": [
    {
     "data": {
      "text/html": [
       "AI generated code inserted below &#11015;&#65039;"
      ],
      "text/plain": [
       "<IPython.core.display.HTML object>"
      ]
     },
     "execution_count": 32,
     "metadata": {
      "text/html": {
       "jupyter_ai": {
        "model_id": "gpt-3.5-turbo",
        "provider_id": "openai-chat"
       }
      }
     },
     "output_type": "execute_result"
    }
   ],
   "source": [
    "%%ai openai-chat:gpt-3.5-turbo --format code\n",
    "Write a Python function to filter out only the differentially expressed genes froma dataframe with columns Gene, p-value and LFC. \n",
    "Genes having abs(log fold change)>1 and p-value<0.05 should be considered as differentially expressed.Return the results as a list. Write the \n",
    "code using Pandas conditional rules in a single line."
   ]
  },
  {
   "cell_type": "code",
   "execution_count": 37,
   "metadata": {
    "tags": []
   },
   "outputs": [],
   "source": [
    "def filter_differentially_expressed_genes(dataframe):\n",
    "    return dataframe[(dataframe['log fold change'].abs() > 1) & (dataframe['p-value'] < 0.05)]['Gene'].tolist()\n",
    "dif_exp_gene_list = filter_differentially_expressed_genes(dataframe = result_lfc)"
   ]
  },
  {
   "cell_type": "markdown",
   "metadata": {},
   "source": [
    "#### **PCA analysis**"
   ]
  },
  {
   "cell_type": "code",
   "execution_count": 36,
   "metadata": {
    "tags": []
   },
   "outputs": [
    {
     "data": {
      "text/html": [
       "AI generated code inserted below &#11015;&#65039;"
      ],
      "text/plain": [
       "<IPython.core.display.HTML object>"
      ]
     },
     "execution_count": 36,
     "metadata": {
      "text/html": {
       "jupyter_ai": {
        "model_id": "gpt-3.5-turbo",
        "provider_id": "openai-chat"
       }
      }
     },
     "output_type": "execute_result"
    }
   ],
   "source": [
    "%%ai openai-chat:gpt-3.5-turbo --format code\n",
    "Write a Python function that takes a list of features and dataframe as an input. The dataframe contains features as columns except \n",
    "for the last column which is a categorical variable.\n",
    "\n",
    "First, filter out the columns in the dataframe using the provided list of features. \n",
    "\n",
    "Then perform PCA upon the filtered data and visualize the PC_1 and PC_2. Color the samples as per the categorical variable. \n",
    "\n",
    "Use Seaborn for visualization"
   ]
  },
  {
   "cell_type": "code",
   "execution_count": 45,
   "metadata": {
    "tags": []
   },
   "outputs": [
    {
     "name": "stdout",
     "output_type": "stream",
     "text": [
      "         PC_1      PC_2 clinical_status\n",
      "12  19.020255  0.487775             GNG\n",
      "17  -4.949513  4.825025             GNG\n",
      "23  -6.862079 -2.792298             MBL\n",
      "6   16.130529 -1.599238             GNG\n",
      "11  10.405710 -3.687144             GNG\n",
      "1    6.840846 -0.029518             GNG\n",
      "4   11.453449  0.252172             GNG\n",
      "19  -2.326134 -5.423135             MBL\n",
      "8    1.115809 -5.025219             GNG\n",
      "2   -6.324141  7.450404             GNG\n"
     ]
    },
    {
     "data": {
      "image/png": "[encoded data removed]",
      "text/plain": [
       "<Figure size 640x480 with 1 Axes>"
      ]
     },
     "metadata": {},
     "output_type": "display_data"
    }
   ],
   "source": [
    "import pandas as pd\n",
    "import seaborn as sns\n",
    "from sklearn.decomposition import PCA\n",
    "\n",
    "def pca_visualization(features, dataframe):\n",
    "    filtered_data = dataframe[features]\n",
    "    \n",
    "    pca = PCA(n_components=2)\n",
    "    principal_components = pca.fit_transform(filtered_data)\n",
    "    \n",
    "    principal_df = pd.DataFrame(data=principal_components, columns=['PC_1', 'PC_2'])\n",
    "    principal_df['clinical_status'] = list(dataframe.iloc[:, -1])\n",
    "    \n",
    "    print(principal_df.sample(10))\n",
    "    \n",
    "    #final_df = pd.concat([principal_df, dataframe.iloc[:, -1]], axis=1)\n",
    "    \n",
    "    sns.scatterplot(data=principal_df, x='PC_1', y='PC_2', hue='clinical_status')\n",
    "    \n",
    "pca_visualization(features = dif_exp_gene_list, dataframe = gene_exp)"
   ]
  },
  {
   "cell_type": "code",
   "execution_count": 46,
   "metadata": {
    "tags": []
   },
   "outputs": [
    {
     "data": {
      "image/png": "[encoded data removed]",
      "text/plain": [
       "<Figure size 800x400 with 1 Axes>"
      ]
     },
     "metadata": {},
     "output_type": "display_data"
    }
   ],
   "source": [
    "import pandas as pd\n",
    "from sklearn.decomposition import PCA\n",
    "import matplotlib.pyplot as plt\n",
    "\n",
    "def pca_variance(features, dataframe):\n",
    "    filtered_data = dataframe[features]\n",
    "    \n",
    "    pca_full = PCA()\n",
    "    #principal_components = pca.fit_transform(filtered_data)\n",
    "    \n",
    "    pca_full.fit(filtered_data)\n",
    "    \n",
    "    # Getting the variance explained by each component\n",
    "    explained_variance = pca_full.explained_variance_ratio_\n",
    "\n",
    "    # Generating the scree plot\n",
    "    plt.figure(figsize=(8, 4))\n",
    "    plt.bar(range(1, len(explained_variance) + 1), explained_variance, alpha=0.5, align='center', label='Individual explained variance')\n",
    "    plt.ylabel('Explained variance ratio')\n",
    "    plt.xlabel('Principal component')\n",
    "    plt.title('Scree Plot')\n",
    "    plt.legend()\n",
    "    plt.show()\n",
    "\n",
    "    \n",
    "pca_variance(features = dif_exp_gene_list, dataframe = gene_exp)"
   ]
  },
  {
   "cell_type": "markdown",
   "metadata": {},
   "source": [
    "#### **Enrichment analysis**"
   ]
  },
  {
   "cell_type": "code",
   "execution_count": 47,
   "metadata": {
    "tags": []
   },
   "outputs": [
    {
     "data": {
      "text/html": [
       "AI generated code inserted below &#11015;&#65039;"
      ],
      "text/plain": [
       "<IPython.core.display.HTML object>"
      ]
     },
     "execution_count": 47,
     "metadata": {
      "text/html": {
       "jupyter_ai": {
        "model_id": "gpt-3.5-turbo",
        "provider_id": "openai-chat"
       }
      }
     },
     "output_type": "execute_result"
    }
   ],
   "source": [
    "%%ai openai-chat:gpt-3.5-turbo --format code\n",
    "Write a Python function to perform enrichment analysis using gseapy package. The inputs to the function should be differentially expressed genes. "
   ]
  },
  {
   "cell_type": "code",
   "execution_count": 49,
   "metadata": {
    "tags": []
   },
   "outputs": [
    {
     "data": {
      "text/html": [
       "<div>\n",
       "<style scoped>\n",
       "    .dataframe tbody tr th:only-of-type {\n",
       "        vertical-align: middle;\n",
       "    }\n",
       "\n",
       "    .dataframe tbody tr th {\n",
       "        vertical-align: top;\n",
       "    }\n",
       "\n",
       "    .dataframe thead th {\n",
       "        text-align: right;\n",
       "    }\n",
       "</style>\n",
       "<table border=\"1\" class=\"dataframe\">\n",
       "  <thead>\n",
       "    <tr style=\"text-align: right;\">\n",
       "      <th></th>\n",
       "      <th>Gene_set</th>\n",
       "      <th>Term</th>\n",
       "      <th>Overlap</th>\n",
       "      <th>P-value</th>\n",
       "      <th>Adjusted P-value</th>\n",
       "      <th>Old P-value</th>\n",
       "      <th>Old Adjusted P-value</th>\n",
       "      <th>Odds Ratio</th>\n",
       "      <th>Combined Score</th>\n",
       "      <th>Genes</th>\n",
       "    </tr>\n",
       "  </thead>\n",
       "  <tbody>\n",
       "    <tr>\n",
       "      <th>0</th>\n",
       "      <td>GO_Biological_Process_2018</td>\n",
       "      <td>regulation of regulated secretory pathway (GO:...</td>\n",
       "      <td>5/37</td>\n",
       "      <td>2.934856e-07</td>\n",
       "      <td>0.000073</td>\n",
       "      <td>0</td>\n",
       "      <td>0</td>\n",
       "      <td>43.166233</td>\n",
       "      <td>649.282187</td>\n",
       "      <td>RPH3A;RAB3A;SYT1;SYT13;SYTL4</td>\n",
       "    </tr>\n",
       "    <tr>\n",
       "      <th>1</th>\n",
       "      <td>GO_Biological_Process_2018</td>\n",
       "      <td>organelle membrane fusion (GO:0090174)</td>\n",
       "      <td>6/71</td>\n",
       "      <td>3.135849e-07</td>\n",
       "      <td>0.000073</td>\n",
       "      <td>0</td>\n",
       "      <td>0</td>\n",
       "      <td>25.817551</td>\n",
       "      <td>386.622889</td>\n",
       "      <td>RPH3A;SNAP25;STX1B;SYT1;SYT13;SYTL4</td>\n",
       "    </tr>\n",
       "    <tr>\n",
       "      <th>2</th>\n",
       "      <td>GO_Biological_Process_2018</td>\n",
       "      <td>modulation of chemical synaptic transmission (...</td>\n",
       "      <td>6/82</td>\n",
       "      <td>7.414593e-07</td>\n",
       "      <td>0.000115</td>\n",
       "      <td>0</td>\n",
       "      <td>0</td>\n",
       "      <td>22.068569</td>\n",
       "      <td>311.490034</td>\n",
       "      <td>STX1B;UNC13A;SYT1;DLG4;MAPK8IP2;CPLX1</td>\n",
       "    </tr>\n",
       "    <tr>\n",
       "      <th>3</th>\n",
       "      <td>GO_Biological_Process_2018</td>\n",
       "      <td>regulation of exocytosis (GO:0017157)</td>\n",
       "      <td>5/51</td>\n",
       "      <td>1.516580e-06</td>\n",
       "      <td>0.000129</td>\n",
       "      <td>0</td>\n",
       "      <td>0</td>\n",
       "      <td>30.007548</td>\n",
       "      <td>402.072714</td>\n",
       "      <td>RAB3B;RAB3A;SYT1;SYTL4;CPLX1</td>\n",
       "    </tr>\n",
       "    <tr>\n",
       "      <th>4</th>\n",
       "      <td>GO_Biological_Process_2018</td>\n",
       "      <td>chemical synaptic transmission (GO:0007268)</td>\n",
       "      <td>9/289</td>\n",
       "      <td>1.656182e-06</td>\n",
       "      <td>0.000129</td>\n",
       "      <td>0</td>\n",
       "      <td>0</td>\n",
       "      <td>9.285032</td>\n",
       "      <td>123.593016</td>\n",
       "      <td>SNAP25;NAPB;GABRB1;UNC13A;SYT1;DLG4;DLGAP2;CPL...</td>\n",
       "    </tr>\n",
       "    <tr>\n",
       "      <th>...</th>\n",
       "      <td>...</td>\n",
       "      <td>...</td>\n",
       "      <td>...</td>\n",
       "      <td>...</td>\n",
       "      <td>...</td>\n",
       "      <td>...</td>\n",
       "      <td>...</td>\n",
       "      <td>...</td>\n",
       "      <td>...</td>\n",
       "      <td>...</td>\n",
       "    </tr>\n",
       "    <tr>\n",
       "      <th>462</th>\n",
       "      <td>GO_Biological_Process_2018</td>\n",
       "      <td>regulation of cellular macromolecule biosynthe...</td>\n",
       "      <td>1/631</td>\n",
       "      <td>9.156904e-01</td>\n",
       "      <td>0.923601</td>\n",
       "      <td>0</td>\n",
       "      <td>0</td>\n",
       "      <td>0.402945</td>\n",
       "      <td>0.035490</td>\n",
       "      <td>ZNF536</td>\n",
       "    </tr>\n",
       "    <tr>\n",
       "      <th>463</th>\n",
       "      <td>GO_Biological_Process_2018</td>\n",
       "      <td>regulation of transcription from RNA polymeras...</td>\n",
       "      <td>3/1478</td>\n",
       "      <td>9.305649e-01</td>\n",
       "      <td>0.936582</td>\n",
       "      <td>0</td>\n",
       "      <td>0</td>\n",
       "      <td>0.507045</td>\n",
       "      <td>0.036489</td>\n",
       "      <td>SFRP4;MYT1L;ZNF536</td>\n",
       "    </tr>\n",
       "    <tr>\n",
       "      <th>464</th>\n",
       "      <td>GO_Biological_Process_2018</td>\n",
       "      <td>regulation of cell proliferation (GO:0042127)</td>\n",
       "      <td>1/740</td>\n",
       "      <td>9.454506e-01</td>\n",
       "      <td>0.949517</td>\n",
       "      <td>0</td>\n",
       "      <td>0</td>\n",
       "      <td>0.341571</td>\n",
       "      <td>0.019160</td>\n",
       "      <td>SFRP4</td>\n",
       "    </tr>\n",
       "    <tr>\n",
       "      <th>465</th>\n",
       "      <td>GO_Biological_Process_2018</td>\n",
       "      <td>regulation of transcription, DNA-templated (GO...</td>\n",
       "      <td>3/1598</td>\n",
       "      <td>9.514552e-01</td>\n",
       "      <td>0.953497</td>\n",
       "      <td>0</td>\n",
       "      <td>0</td>\n",
       "      <td>0.465848</td>\n",
       "      <td>0.023182</td>\n",
       "      <td>DAB2;MYT1L;ZNF536</td>\n",
       "    </tr>\n",
       "    <tr>\n",
       "      <th>466</th>\n",
       "      <td>GO_Biological_Process_2018</td>\n",
       "      <td>positive regulation of transcription, DNA-temp...</td>\n",
       "      <td>1/1120</td>\n",
       "      <td>9.882741e-01</td>\n",
       "      <td>0.988274</td>\n",
       "      <td>0</td>\n",
       "      <td>0</td>\n",
       "      <td>0.221109</td>\n",
       "      <td>0.002608</td>\n",
       "      <td>DAB2</td>\n",
       "    </tr>\n",
       "  </tbody>\n",
       "</table>\n",
       "<p>467 rows × 10 columns</p>\n",
       "</div>"
      ],
      "text/plain": [
       "                       Gene_set  \\\n",
       "0    GO_Biological_Process_2018   \n",
       "1    GO_Biological_Process_2018   \n",
       "2    GO_Biological_Process_2018   \n",
       "3    GO_Biological_Process_2018   \n",
       "4    GO_Biological_Process_2018   \n",
       "..                          ...   \n",
       "462  GO_Biological_Process_2018   \n",
       "463  GO_Biological_Process_2018   \n",
       "464  GO_Biological_Process_2018   \n",
       "465  GO_Biological_Process_2018   \n",
       "466  GO_Biological_Process_2018   \n",
       "\n",
       "                                                  Term Overlap       P-value  \\\n",
       "0    regulation of regulated secretory pathway (GO:...    5/37  2.934856e-07   \n",
       "1               organelle membrane fusion (GO:0090174)    6/71  3.135849e-07   \n",
       "2    modulation of chemical synaptic transmission (...    6/82  7.414593e-07   \n",
       "3                regulation of exocytosis (GO:0017157)    5/51  1.516580e-06   \n",
       "4          chemical synaptic transmission (GO:0007268)   9/289  1.656182e-06   \n",
       "..                                                 ...     ...           ...   \n",
       "462  regulation of cellular macromolecule biosynthe...   1/631  9.156904e-01   \n",
       "463  regulation of transcription from RNA polymeras...  3/1478  9.305649e-01   \n",
       "464      regulation of cell proliferation (GO:0042127)   1/740  9.454506e-01   \n",
       "465  regulation of transcription, DNA-templated (GO...  3/1598  9.514552e-01   \n",
       "466  positive regulation of transcription, DNA-temp...  1/1120  9.882741e-01   \n",
       "\n",
       "     Adjusted P-value  Old P-value  Old Adjusted P-value  Odds Ratio  \\\n",
       "0            0.000073            0                     0   43.166233   \n",
       "1            0.000073            0                     0   25.817551   \n",
       "2            0.000115            0                     0   22.068569   \n",
       "3            0.000129            0                     0   30.007548   \n",
       "4            0.000129            0                     0    9.285032   \n",
       "..                ...          ...                   ...         ...   \n",
       "462          0.923601            0                     0    0.402945   \n",
       "463          0.936582            0                     0    0.507045   \n",
       "464          0.949517            0                     0    0.341571   \n",
       "465          0.953497            0                     0    0.465848   \n",
       "466          0.988274            0                     0    0.221109   \n",
       "\n",
       "     Combined Score                                              Genes  \n",
       "0        649.282187                       RPH3A;RAB3A;SYT1;SYT13;SYTL4  \n",
       "1        386.622889                RPH3A;SNAP25;STX1B;SYT1;SYT13;SYTL4  \n",
       "2        311.490034              STX1B;UNC13A;SYT1;DLG4;MAPK8IP2;CPLX1  \n",
       "3        402.072714                       RAB3B;RAB3A;SYT1;SYTL4;CPLX1  \n",
       "4        123.593016  SNAP25;NAPB;GABRB1;UNC13A;SYT1;DLG4;DLGAP2;CPL...  \n",
       "..              ...                                                ...  \n",
       "462        0.035490                                             ZNF536  \n",
       "463        0.036489                                 SFRP4;MYT1L;ZNF536  \n",
       "464        0.019160                                              SFRP4  \n",
       "465        0.023182                                  DAB2;MYT1L;ZNF536  \n",
       "466        0.002608                                               DAB2  \n",
       "\n",
       "[467 rows x 10 columns]"
      ]
     },
     "execution_count": 49,
     "metadata": {},
     "output_type": "execute_result"
    }
   ],
   "source": [
    "import gseapy\n",
    "def perform_enrichment_analysis(differentially_expressed_genes):\n",
    "\n",
    "    # Set up the required inputs for gseapy\n",
    "    gene_list = differentially_expressed_genes\n",
    "    gene_sets = 'GO_Biological_Process_2018'\n",
    "    organism = 'human'\n",
    "    enrichment_method = 'gseapy.prerank'\n",
    "\n",
    "    # Perform enrichment analysis\n",
    "    enr_results = gseapy.enrichr(gene_list=gene_list, gene_sets=gene_sets, organism=organism,\n",
    "                                )\n",
    "\n",
    "    return enr_results\n",
    "\n",
    "# Example usage:\n",
    "enrichment_results = perform_enrichment_analysis(differentially_expressed_genes = dif_exp_gene_list)\n",
    "enrichment_results.results\n"
   ]
  },
  {
   "cell_type": "markdown",
   "metadata": {
    "tags": []
   },
   "source": [
    "#### **Machine learning analysis**"
   ]
  },
  {
   "cell_type": "code",
   "execution_count": null,
   "metadata": {
    "tags": []
   },
   "outputs": [],
   "source": [
    "%%ai openai-chat:gpt-3.5-turbo --format code\n",
    "You are given a dataframe having features as columns with the last column being a binary categorical variable. Design a Python\n",
    "function to build a loistic regression model that predicts the categorical variable. Split the data in training and test set \n",
    "in the ration of 70:30. Report the test-set accuracy, AUROC, precision, and recall. Also plot the ROC curve."
   ]
  },
  {
   "cell_type": "code",
   "execution_count": null,
   "metadata": {},
   "outputs": [],
   "source": []
  }
 ],
 "metadata": {
  "colab": {
   "provenance": []
  },
  "kernelspec": {
   "display_name": "Python 3 (ipykernel)",
   "language": "python",
   "name": "python3"
  },
  "language_info": {
   "codemirror_mode": {
    "name": "ipython",
    "version": 3
   },
   "file_extension": ".py",
   "mimetype": "text/x-python",
   "name": "python",
   "nbconvert_exporter": "python",
   "pygments_lexer": "ipython3",
   "version": "3.11.7"
  }
 },
 "nbformat": 4,
 "nbformat_minor": 4
}
