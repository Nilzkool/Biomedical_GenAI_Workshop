{
 "cells": [
  {
   "cell_type": "code",
   "execution_count": null,
   "metadata": {
    "colab": {
     "base_uri": "https://localhost:8080/",
     "height": 1000
    },
    "id": "dCIP8-X0NdnX",
    "outputId": "91100264-0d0c-48ea-e639-f5d82e352dcb",
    "tags": []
   },
   "outputs": [],
   "source": [
    "#!pip install getpass4 jupyter_ai~=1.0 openai gseapy"
   ]
  },
  {
   "cell_type": "markdown",
   "metadata": {},
   "source": [
    "### **Configuring OpenAI API keys**"
   ]
  },
  {
   "cell_type": "code",
   "execution_count": 1,
   "metadata": {
    "colab": {
     "base_uri": "https://localhost:8080/"
    },
    "id": "GWlx0KZb7_vI",
    "outputId": "9d01dfd4-3ae7-42f7-b6a1-49fd7d66e82a",
    "tags": []
   },
   "outputs": [
    {
     "name": "stdin",
     "output_type": "stream",
     "text": [
      "Enter your OpenAI key:  ········\n"
     ]
    }
   ],
   "source": [
    "import os\n",
    "import openai\n",
    "from getpass import getpass\n",
    "api_key = getpass(\"Enter your OpenAI key: \") #https://platform.openai.com/api-keys\n",
    "os.environ['OPENAI_API_KEY'] = api_key"
   ]
  },
  {
   "cell_type": "markdown",
   "metadata": {},
   "source": [
    "### **Setting up Jupyter copilot**"
   ]
  },
  {
   "cell_type": "code",
   "execution_count": 2,
   "metadata": {
    "id": "9zwBqoZ18q0G",
    "tags": []
   },
   "outputs": [],
   "source": [
    "%load_ext jupyter_ai"
   ]
  },
  {
   "cell_type": "code",
   "execution_count": 3,
   "metadata": {
    "tags": []
   },
   "outputs": [
    {
     "data": {
      "text/markdown": [
       "# ChatGPT\n",
       "\n",
       "In the realm of AI's glory,\n",
       "A digital mind tells its story.\n",
       "ChatGPT, the conversational guide,\n",
       "With language prowess, deep and wide.\n",
       "\n",
       "Questions posed, answers unfold,\n",
       "A symphony of words, untold.\n",
       "It understands, it empathizes,\n",
       "Through virtual conversations, it mesmerizes.\n",
       "\n",
       "From topics silly to those profound,\n",
       "ChatGPT's knowledge, truly renowned.\n",
       "Art, science, or tales of yore,\n",
       "It responds with wisdom and so much more.\n",
       "\n",
       "With every interaction, it learns anew,\n",
       "Adapting, evolving, just for you.\n",
       "A companion in the digital sphere,\n",
       "ChatGPT, a friend so dear.\n",
       "\n",
       "But remember, dear user, with caution tread,\n",
       "For AI's limits lie ahead.\n",
       "In its brilliance, it's still a machine,\n",
       "ChatGPT, a marvel yet to be seen."
      ],
      "text/plain": [
       "<IPython.core.display.Markdown object>"
      ]
     },
     "execution_count": 3,
     "metadata": {
      "text/markdown": {
       "jupyter_ai": {
        "model_id": "gpt-3.5-turbo",
        "provider_id": "openai-chat"
       }
      }
     },
     "output_type": "execute_result"
    }
   ],
   "source": [
    "%%ai openai-chat:gpt-3.5-turbo\n",
    "Write a short poem about chatgpt"
   ]
  },
  {
   "cell_type": "code",
   "execution_count": 4,
   "metadata": {
    "colab": {
     "base_uri": "https://localhost:8080/",
     "height": 34
    },
    "id": "K2-iIZcU84VY",
    "outputId": "ae9be7ac-6466-4bc5-aff4-4d0662316772",
    "tags": []
   },
   "outputs": [
    {
     "data": {
      "text/html": [
       "AI generated code inserted below &#11015;&#65039;"
      ],
      "text/plain": [
       "<IPython.core.display.HTML object>"
      ]
     },
     "execution_count": 4,
     "metadata": {
      "text/html": {
       "jupyter_ai": {
        "model_id": "gpt-3.5-turbo",
        "provider_id": "openai-chat"
       }
      }
     },
     "output_type": "execute_result"
    }
   ],
   "source": [
    "%%ai openai-chat:gpt-3.5-turbo -f code\n",
    "Genereate a function to add two numbers. Then print out the sum of 2 and 3."
   ]
  },
  {
   "cell_type": "code",
   "execution_count": 5,
   "metadata": {
    "tags": []
   },
   "outputs": [
    {
     "name": "stdout",
     "output_type": "stream",
     "text": [
      "5\n"
     ]
    }
   ],
   "source": [
    "def add_numbers(a, b):\n",
    "    return a + b\n",
    "\n",
    "print(add_numbers(2, 3))"
   ]
  },
  {
   "cell_type": "code",
   "execution_count": 6,
   "metadata": {
    "tags": []
   },
   "outputs": [
    {
     "data": {
      "text/html": [
       "AI generated code inserted below &#11015;&#65039;"
      ],
      "text/plain": [
       "<IPython.core.display.HTML object>"
      ]
     },
     "execution_count": 6,
     "metadata": {
      "text/html": {
       "jupyter_ai": {
        "model_id": "gpt-3.5-turbo",
        "provider_id": "openai-chat"
       }
      }
     },
     "output_type": "execute_result"
    }
   ],
   "source": [
    "%%ai openai-chat:gpt-3.5-turbo --format code\n",
    "Create a function that plots a circle of radius r. Then plot the circle with r=4."
   ]
  },
  {
   "cell_type": "code",
   "execution_count": 7,
   "metadata": {
    "tags": []
   },
   "outputs": [
    {
     "data": {
      "image/png": "[encoded data removed]",
      "text/plain": [
       "<Figure size 640x480 with 1 Axes>"
      ]
     },
     "metadata": {},
     "output_type": "display_data"
    }
   ],
   "source": [
    "import numpy as np\n",
    "import matplotlib.pyplot as plt\n",
    "\n",
    "def plot_circle(radius):\n",
    "    theta = np.linspace(0, 2*np.pi, 100)\n",
    "    x = radius * np.cos(theta)\n",
    "    y = radius * np.sin(theta)\n",
    "    plt.plot(x, y)\n",
    "    plt.axis('equal')\n",
    "    plt.show()\n",
    "\n",
    "plot_circle(4)"
   ]
  },
  {
   "cell_type": "markdown",
   "metadata": {},
   "source": [
    "### **Let's begin, we will load our dataset now**"
   ]
  },
  {
   "cell_type": "code",
   "execution_count": 10,
   "metadata": {
    "id": "pSq0J5iBNy8K"
   },
   "outputs": [
    {
     "data": {
      "text/html": [
       "<div>\n",
       "<style scoped>\n",
       "    .dataframe tbody tr th:only-of-type {\n",
       "        vertical-align: middle;\n",
       "    }\n",
       "\n",
       "    .dataframe tbody tr th {\n",
       "        vertical-align: top;\n",
       "    }\n",
       "\n",
       "    .dataframe thead th {\n",
       "        text-align: right;\n",
       "    }\n",
       "</style>\n",
       "<table border=\"1\" class=\"dataframe\">\n",
       "  <thead>\n",
       "    <tr style=\"text-align: right;\">\n",
       "      <th></th>\n",
       "      <th>ENTPD4</th>\n",
       "      <th>PPM1E</th>\n",
       "      <th>ANKRD34C</th>\n",
       "      <th>PRR16</th>\n",
       "      <th>LONP1</th>\n",
       "      <th>LPA</th>\n",
       "      <th>DALRD3</th>\n",
       "      <th>ZNF705G</th>\n",
       "      <th>SMAD6</th>\n",
       "      <th>ATF6</th>\n",
       "      <th>...</th>\n",
       "      <th>NR2F2</th>\n",
       "      <th>AS3MT</th>\n",
       "      <th>PCDH11Y</th>\n",
       "      <th>FAM124B</th>\n",
       "      <th>ASH2L</th>\n",
       "      <th>PCED1B</th>\n",
       "      <th>CA1</th>\n",
       "      <th>ZBTB22</th>\n",
       "      <th>CBLL1</th>\n",
       "      <th>Clinical_status</th>\n",
       "    </tr>\n",
       "  </thead>\n",
       "  <tbody>\n",
       "    <tr>\n",
       "      <th>7316-101</th>\n",
       "      <td>3.432311</td>\n",
       "      <td>2.672589</td>\n",
       "      <td>0.341457</td>\n",
       "      <td>1.711063</td>\n",
       "      <td>4.543091</td>\n",
       "      <td>0.386900</td>\n",
       "      <td>3.165207</td>\n",
       "      <td>0.019529</td>\n",
       "      <td>1.137224</td>\n",
       "      <td>2.621226</td>\n",
       "      <td>...</td>\n",
       "      <td>3.917738</td>\n",
       "      <td>1.208563</td>\n",
       "      <td>3.630702</td>\n",
       "      <td>0.633061</td>\n",
       "      <td>3.721078</td>\n",
       "      <td>1.755051</td>\n",
       "      <td>0.233654</td>\n",
       "      <td>3.259843</td>\n",
       "      <td>3.222730</td>\n",
       "      <td>GNG</td>\n",
       "    </tr>\n",
       "    <tr>\n",
       "      <th>7316-120</th>\n",
       "      <td>3.339354</td>\n",
       "      <td>2.435612</td>\n",
       "      <td>0.047633</td>\n",
       "      <td>1.092421</td>\n",
       "      <td>3.917665</td>\n",
       "      <td>0.160108</td>\n",
       "      <td>2.281124</td>\n",
       "      <td>-0.102926</td>\n",
       "      <td>0.960577</td>\n",
       "      <td>3.336697</td>\n",
       "      <td>...</td>\n",
       "      <td>2.774818</td>\n",
       "      <td>2.004762</td>\n",
       "      <td>-0.060282</td>\n",
       "      <td>0.768917</td>\n",
       "      <td>3.836300</td>\n",
       "      <td>1.520004</td>\n",
       "      <td>0.361742</td>\n",
       "      <td>2.830646</td>\n",
       "      <td>3.457789</td>\n",
       "      <td>GNG</td>\n",
       "    </tr>\n",
       "    <tr>\n",
       "      <th>7316-156</th>\n",
       "      <td>3.219657</td>\n",
       "      <td>0.811430</td>\n",
       "      <td>0.265461</td>\n",
       "      <td>0.943533</td>\n",
       "      <td>5.676209</td>\n",
       "      <td>0.322045</td>\n",
       "      <td>3.316833</td>\n",
       "      <td>0.265461</td>\n",
       "      <td>2.164637</td>\n",
       "      <td>2.976956</td>\n",
       "      <td>...</td>\n",
       "      <td>3.498122</td>\n",
       "      <td>1.874270</td>\n",
       "      <td>0.279816</td>\n",
       "      <td>0.552342</td>\n",
       "      <td>3.709068</td>\n",
       "      <td>2.781476</td>\n",
       "      <td>0.467095</td>\n",
       "      <td>3.301085</td>\n",
       "      <td>3.316833</td>\n",
       "      <td>GNG</td>\n",
       "    </tr>\n",
       "    <tr>\n",
       "      <th>7316-1793</th>\n",
       "      <td>4.007827</td>\n",
       "      <td>2.650892</td>\n",
       "      <td>0.078530</td>\n",
       "      <td>0.331072</td>\n",
       "      <td>4.220304</td>\n",
       "      <td>0.040395</td>\n",
       "      <td>2.523059</td>\n",
       "      <td>-0.123104</td>\n",
       "      <td>1.277434</td>\n",
       "      <td>3.567313</td>\n",
       "      <td>...</td>\n",
       "      <td>2.933479</td>\n",
       "      <td>1.163777</td>\n",
       "      <td>-0.123104</td>\n",
       "      <td>0.509164</td>\n",
       "      <td>3.730892</td>\n",
       "      <td>2.601546</td>\n",
       "      <td>0.221724</td>\n",
       "      <td>2.999569</td>\n",
       "      <td>3.697585</td>\n",
       "      <td>GNG</td>\n",
       "    </tr>\n",
       "    <tr>\n",
       "      <th>7316-1854</th>\n",
       "      <td>3.431670</td>\n",
       "      <td>2.272258</td>\n",
       "      <td>0.210982</td>\n",
       "      <td>0.869548</td>\n",
       "      <td>4.122634</td>\n",
       "      <td>0.033586</td>\n",
       "      <td>2.865766</td>\n",
       "      <td>-0.064025</td>\n",
       "      <td>1.363581</td>\n",
       "      <td>3.050342</td>\n",
       "      <td>...</td>\n",
       "      <td>1.943171</td>\n",
       "      <td>1.701510</td>\n",
       "      <td>2.643058</td>\n",
       "      <td>0.347401</td>\n",
       "      <td>3.555388</td>\n",
       "      <td>1.263662</td>\n",
       "      <td>0.112298</td>\n",
       "      <td>3.129747</td>\n",
       "      <td>3.603867</td>\n",
       "      <td>GNG</td>\n",
       "    </tr>\n",
       "  </tbody>\n",
       "</table>\n",
       "<p>5 rows × 2002 columns</p>\n",
       "</div>"
      ],
      "text/plain": [
       "             ENTPD4     PPM1E  ANKRD34C     PRR16     LONP1       LPA  \\\n",
       "7316-101   3.432311  2.672589  0.341457  1.711063  4.543091  0.386900   \n",
       "7316-120   3.339354  2.435612  0.047633  1.092421  3.917665  0.160108   \n",
       "7316-156   3.219657  0.811430  0.265461  0.943533  5.676209  0.322045   \n",
       "7316-1793  4.007827  2.650892  0.078530  0.331072  4.220304  0.040395   \n",
       "7316-1854  3.431670  2.272258  0.210982  0.869548  4.122634  0.033586   \n",
       "\n",
       "             DALRD3   ZNF705G     SMAD6      ATF6  ...     NR2F2     AS3MT  \\\n",
       "7316-101   3.165207  0.019529  1.137224  2.621226  ...  3.917738  1.208563   \n",
       "7316-120   2.281124 -0.102926  0.960577  3.336697  ...  2.774818  2.004762   \n",
       "7316-156   3.316833  0.265461  2.164637  2.976956  ...  3.498122  1.874270   \n",
       "7316-1793  2.523059 -0.123104  1.277434  3.567313  ...  2.933479  1.163777   \n",
       "7316-1854  2.865766 -0.064025  1.363581  3.050342  ...  1.943171  1.701510   \n",
       "\n",
       "            PCDH11Y   FAM124B     ASH2L    PCED1B       CA1    ZBTB22  \\\n",
       "7316-101   3.630702  0.633061  3.721078  1.755051  0.233654  3.259843   \n",
       "7316-120  -0.060282  0.768917  3.836300  1.520004  0.361742  2.830646   \n",
       "7316-156   0.279816  0.552342  3.709068  2.781476  0.467095  3.301085   \n",
       "7316-1793 -0.123104  0.509164  3.730892  2.601546  0.221724  2.999569   \n",
       "7316-1854  2.643058  0.347401  3.555388  1.263662  0.112298  3.129747   \n",
       "\n",
       "              CBLL1  Clinical_status  \n",
       "7316-101   3.222730              GNG  \n",
       "7316-120   3.457789              GNG  \n",
       "7316-156   3.316833              GNG  \n",
       "7316-1793  3.697585              GNG  \n",
       "7316-1854  3.603867              GNG  \n",
       "\n",
       "[5 rows x 2002 columns]"
      ]
     },
     "execution_count": 10,
     "metadata": {},
     "output_type": "execute_result"
    }
   ],
   "source": [
    "import pandas as pd\n",
    "gene_exp = pd.read_csv('Workshop_Data.csv',index_col=0)\n",
    "gene_exp.head()"
   ]
  },
  {
   "cell_type": "markdown",
   "metadata": {
    "id": "WLs7anYQaD6j"
   },
   "source": [
    "#### **Differentially expressed genes using t test between the two clinical conditions given the data is normalized** "
   ]
  },
  {
   "cell_type": "code",
   "execution_count": 11,
   "metadata": {
    "tags": []
   },
   "outputs": [
    {
     "data": {
      "text/html": [
       "AI generated code inserted below &#11015;&#65039;"
      ],
      "text/plain": [
       "<IPython.core.display.HTML object>"
      ]
     },
     "execution_count": 11,
     "metadata": {
      "text/html": {
       "jupyter_ai": {
        "model_id": "gpt-3.5-turbo",
        "provider_id": "openai-chat"
       }
      }
     },
     "output_type": "execute_result"
    }
   ],
   "source": [
    "%%ai openai-chat:gpt-3.5-turbo --format code\n",
    "You are a bioinformatician, having experience with python programming language. You are given a gene expression data where each is a  \n",
    "sample and each column is gene expression value. The last column is Clinical_status which is a categorical variable with classes GNG and MBL. \n",
    "Design a function to perform t-test between the two classes for each gene, and return the results as a dataframe with t-statistic and p-value\n",
    "in columns. "
   ]
  },
  {
   "cell_type": "code",
   "execution_count": 32,
   "metadata": {
    "tags": []
   },
   "outputs": [
    {
     "data": {
      "text/html": [
       "<div>\n",
       "<style scoped>\n",
       "    .dataframe tbody tr th:only-of-type {\n",
       "        vertical-align: middle;\n",
       "    }\n",
       "\n",
       "    .dataframe tbody tr th {\n",
       "        vertical-align: top;\n",
       "    }\n",
       "\n",
       "    .dataframe thead th {\n",
       "        text-align: right;\n",
       "    }\n",
       "</style>\n",
       "<table border=\"1\" class=\"dataframe\">\n",
       "  <thead>\n",
       "    <tr style=\"text-align: right;\">\n",
       "      <th></th>\n",
       "      <th>Gene</th>\n",
       "      <th>T-Statistic</th>\n",
       "      <th>P-Value</th>\n",
       "    </tr>\n",
       "  </thead>\n",
       "  <tbody>\n",
       "    <tr>\n",
       "      <th>0</th>\n",
       "      <td>ENTPD4</td>\n",
       "      <td>1.929813</td>\n",
       "      <td>0.062535</td>\n",
       "    </tr>\n",
       "    <tr>\n",
       "      <th>1</th>\n",
       "      <td>PPM1E</td>\n",
       "      <td>2.654832</td>\n",
       "      <td>0.012261</td>\n",
       "    </tr>\n",
       "    <tr>\n",
       "      <th>2</th>\n",
       "      <td>ANKRD34C</td>\n",
       "      <td>2.050770</td>\n",
       "      <td>0.048553</td>\n",
       "    </tr>\n",
       "    <tr>\n",
       "      <th>3</th>\n",
       "      <td>PRR16</td>\n",
       "      <td>2.664717</td>\n",
       "      <td>0.011971</td>\n",
       "    </tr>\n",
       "    <tr>\n",
       "      <th>4</th>\n",
       "      <td>LONP1</td>\n",
       "      <td>0.300681</td>\n",
       "      <td>0.765602</td>\n",
       "    </tr>\n",
       "  </tbody>\n",
       "</table>\n",
       "</div>"
      ],
      "text/plain": [
       "       Gene  T-Statistic   P-Value\n",
       "0    ENTPD4     1.929813  0.062535\n",
       "1     PPM1E     2.654832  0.012261\n",
       "2  ANKRD34C     2.050770  0.048553\n",
       "3     PRR16     2.664717  0.011971\n",
       "4     LONP1     0.300681  0.765602"
      ]
     },
     "execution_count": 32,
     "metadata": {},
     "output_type": "execute_result"
    }
   ],
   "source": [
    "import pandas as pd\n",
    "from scipy import stats\n",
    "\n",
    "def perform_t_test(data):\n",
    "    t_statistic = []\n",
    "    p_value = []\n",
    "    genes = data.columns[:-1]  # Exclude the last column (Clinical_status)\n",
    "    for gene in genes:\n",
    "        group1 = data[data['Clinical_status'] == 'GNG'][gene]\n",
    "        group2 = data[data['Clinical_status'] == 'MBL'][gene]\n",
    "        t, p = stats.ttest_ind(group1, group2)\n",
    "        t_statistic.append(t)\n",
    "        p_value.append(p)\n",
    "    results = pd.DataFrame({'Gene': genes, 'T-Statistic': t_statistic, 'P-Value': p_value})\n",
    "    return results\n",
    "\n",
    "# Example usage\n",
    "t_test_results = perform_t_test(data = gene_exp)\n",
    "t_test_results.head()"
   ]
  },
  {
   "cell_type": "code",
   "execution_count": 15,
   "metadata": {
    "tags": []
   },
   "outputs": [
    {
     "data": {
      "text/html": [
       "AI generated code inserted below &#11015;&#65039;"
      ],
      "text/plain": [
       "<IPython.core.display.HTML object>"
      ]
     },
     "execution_count": 15,
     "metadata": {
      "text/html": {
       "jupyter_ai": {
        "model_id": "gpt-3.5-turbo",
        "provider_id": "openai-chat"
       }
      }
     },
     "output_type": "execute_result"
    }
   ],
   "source": [
    "%%ai openai-chat:gpt-3.5-turbo --format code\n",
    "Update the previous function to calculate the logfc values for MBL vs GNG for each gene."
   ]
  },
  {
   "cell_type": "code",
   "execution_count": null,
   "metadata": {
    "jupyter": {
     "source_hidden": true
    },
    "tags": []
   },
   "outputs": [],
   "source": [
    "import math\n",
    "\n",
    "def calculate_logfc(data):\n",
    "    logfc_values = {}\n",
    "    \n",
    "    for gene, values in data.items():\n",
    "        mbl_value = values['MBL']\n",
    "        gng_value = values['GNG']\n",
    "        \n",
    "        logfc = math.log2(mbl_value / gng_value)\n",
    "        logfc_values[gene] = logfc\n",
    "    \n",
    "    return logfc_values"
   ]
  },
  {
   "cell_type": "markdown",
   "metadata": {},
   "source": [
    "#### **Differentially expressed genes with t-test and log fold change calculation**"
   ]
  },
  {
   "cell_type": "code",
   "execution_count": 23,
   "metadata": {
    "tags": []
   },
   "outputs": [
    {
     "data": {
      "text/html": [
       "AI generated code inserted below &#11015;&#65039;"
      ],
      "text/plain": [
       "<IPython.core.display.HTML object>"
      ]
     },
     "execution_count": 23,
     "metadata": {
      "text/html": {
       "jupyter_ai": {
        "model_id": "gpt-3.5-turbo",
        "provider_id": "openai-chat"
       }
      }
     },
     "output_type": "execute_result"
    }
   ],
   "source": [
    "%%ai openai-chat:gpt-3.5-turbo --format code\n",
    "You are a bioinformatician, having experience with python programming language. You are given a gene expression data where each is a  \n",
    "sample and each column is gene expression value. The last column is Clinical_status which is a categorical variable with classes \n",
    "GNG and MBL. Design a function to perform t-test and the log fold change between the two classes for each gene, and return the results \n",
    "as a dataframe with t-statistic and p-value in columns. "
   ]
  },
  {
   "cell_type": "code",
   "execution_count": 37,
   "metadata": {
    "tags": []
   },
   "outputs": [
    {
     "data": {
      "text/html": [
       "<div>\n",
       "<style scoped>\n",
       "    .dataframe tbody tr th:only-of-type {\n",
       "        vertical-align: middle;\n",
       "    }\n",
       "\n",
       "    .dataframe tbody tr th {\n",
       "        vertical-align: top;\n",
       "    }\n",
       "\n",
       "    .dataframe thead th {\n",
       "        text-align: right;\n",
       "    }\n",
       "</style>\n",
       "<table border=\"1\" class=\"dataframe\">\n",
       "  <thead>\n",
       "    <tr style=\"text-align: right;\">\n",
       "      <th></th>\n",
       "      <th>Gene</th>\n",
       "      <th>t-statistic</th>\n",
       "      <th>p-value</th>\n",
       "      <th>LFC</th>\n",
       "    </tr>\n",
       "  </thead>\n",
       "  <tbody>\n",
       "    <tr>\n",
       "      <th>0</th>\n",
       "      <td>ENTPD4</td>\n",
       "      <td>1.929813</td>\n",
       "      <td>0.062535</td>\n",
       "      <td>-0.213811</td>\n",
       "    </tr>\n",
       "    <tr>\n",
       "      <th>1</th>\n",
       "      <td>PPM1E</td>\n",
       "      <td>2.654832</td>\n",
       "      <td>0.012261</td>\n",
       "      <td>-0.812095</td>\n",
       "    </tr>\n",
       "    <tr>\n",
       "      <th>2</th>\n",
       "      <td>ANKRD34C</td>\n",
       "      <td>2.050770</td>\n",
       "      <td>0.048553</td>\n",
       "      <td>-0.145653</td>\n",
       "    </tr>\n",
       "    <tr>\n",
       "      <th>3</th>\n",
       "      <td>PRR16</td>\n",
       "      <td>2.664717</td>\n",
       "      <td>0.011971</td>\n",
       "      <td>-0.478615</td>\n",
       "    </tr>\n",
       "    <tr>\n",
       "      <th>4</th>\n",
       "      <td>LONP1</td>\n",
       "      <td>0.300681</td>\n",
       "      <td>0.765602</td>\n",
       "      <td>-0.067598</td>\n",
       "    </tr>\n",
       "  </tbody>\n",
       "</table>\n",
       "</div>"
      ],
      "text/plain": [
       "       Gene  t-statistic   p-value       LFC\n",
       "0    ENTPD4     1.929813  0.062535 -0.213811\n",
       "1     PPM1E     2.654832  0.012261 -0.812095\n",
       "2  ANKRD34C     2.050770  0.048553 -0.145653\n",
       "3     PRR16     2.664717  0.011971 -0.478615\n",
       "4     LONP1     0.300681  0.765602 -0.067598"
      ]
     },
     "execution_count": 37,
     "metadata": {},
     "output_type": "execute_result"
    }
   ],
   "source": [
    "import pandas as pd\n",
    "import scipy.stats as stats\n",
    "\n",
    "def perform_t_test(data):\n",
    "    # Separate the gene expression data and clinical status\n",
    "    gene_data = data.iloc[:, :-1]\n",
    "    clinical_status = data.iloc[:, -1]\n",
    "    \n",
    "    # Initialize an empty dataframe to store results\n",
    "    #result_df = pd.DataFrame(columns=['Gene', 't-statistic', 'p-value', 'LFC'])\n",
    "    col_names = ['Gene', 't-statistic', 'p-value', 'LFC']\n",
    "    results = []\n",
    "    \n",
    "    # Iterate over each gene\n",
    "    for gene in gene_data.columns:\n",
    "        # Split the gene expression data based on clinical status\n",
    "        group1 = gene_data[clinical_status == 'GNG'][gene]\n",
    "        group2 = gene_data[clinical_status == 'MBL'][gene]\n",
    "        \n",
    "        # Perform t-test\n",
    "        t_statistic, p_value = stats.ttest_ind(group1, group2)\n",
    "        \n",
    "        # Calculate log fold change\n",
    "        log_fold_change = group2.mean() - group1.mean()\n",
    "        \n",
    "        # Append the result to the dataframe\n",
    "        results.append([gene, t_statistic, p_value, log_fold_change])\n",
    "    \n",
    "    result_df = pd.DataFrame(results, columns=col_names)\n",
    "    return result_df\n",
    "\n",
    "# Example usage\n",
    "t_test_results = perform_t_test(data = gene_exp)\n",
    "t_test_results.head()"
   ]
  },
  {
   "cell_type": "markdown",
   "metadata": {},
   "source": [
    "#### **Volcano plot**"
   ]
  },
  {
   "cell_type": "code",
   "execution_count": 42,
   "metadata": {
    "tags": []
   },
   "outputs": [
    {
     "data": {
      "text/html": [
       "AI generated code inserted below &#11015;&#65039;"
      ],
      "text/plain": [
       "<IPython.core.display.HTML object>"
      ]
     },
     "execution_count": 42,
     "metadata": {
      "text/html": {
       "jupyter_ai": {
        "model_id": "gpt-3.5-turbo",
        "provider_id": "openai-chat"
       }
      }
     },
     "output_type": "execute_result"
    }
   ],
   "source": [
    "%%ai openai-chat:gpt-3.5-turbo --format code\n",
    "Design a python function to build a volcano plot from a dataframe with columns Gene, p-value and LFC. Indicate those genes \n",
    "as differentially expressed for which abs(logfc)>1 and p-value<0.05. Also, show upregulated genes in red and downregulated genes\n",
    "in blue. Do not forget to show all the genes"
   ]
  },
  {
   "cell_type": "code",
   "execution_count": 45,
   "metadata": {
    "tags": []
   },
   "outputs": [
    {
     "data": {
      "image/png": "[encoded data removed]",
      "text/plain": [
       "<Figure size 640x480 with 1 Axes>"
      ]
     },
     "metadata": {},
     "output_type": "display_data"
    }
   ],
   "source": [
    "import pandas as pd\n",
    "import matplotlib.pyplot as plt\n",
    "\n",
    "def volcano_plot(df):\n",
    "    # Filter differentially expressed genes\n",
    "    df_de = df[(abs(df['LFC']) > 1) & (df['p-value'] < 0.05)]\n",
    "    \n",
    "    # Plot all genes\n",
    "    plt.scatter(df['LFC'], -1 * np.log10(df['p-value']), color='gray', label='Non-DE genes')\n",
    "    \n",
    "    # Plot upregulated genes in red\n",
    "    plt.scatter(df_de[df_de['LFC'] > 0]['LFC'], -1 * np.log10(df_de[df_de['LFC'] > 0]['p-value']), color='red', label='Upregulated')\n",
    "    \n",
    "    # Plot downregulated genes in blue\n",
    "    plt.scatter(df_de[df_de['LFC'] < 0]['LFC'], -1 * np.log10(df_de[df_de['LFC'] < 0]['p-value']), color='blue', label='Downregulated')\n",
    "    \n",
    "    # Add labels and legend\n",
    "    plt.xlabel('Log Fold Change (LFC)')\n",
    "    plt.ylabel('-log10(p-value)')\n",
    "    plt.legend()\n",
    "    \n",
    "    # Show plot\n",
    "    plt.show()\n",
    "volcano_plot(t_test_results)"
   ]
  },
  {
   "cell_type": "markdown",
   "metadata": {},
   "source": [
    "#### **Filetering differentially expressed genes**"
   ]
  },
  {
   "cell_type": "code",
   "execution_count": 48,
   "metadata": {
    "tags": []
   },
   "outputs": [
    {
     "data": {
      "text/html": [
       "AI generated code inserted below &#11015;&#65039;"
      ],
      "text/plain": [
       "<IPython.core.display.HTML object>"
      ]
     },
     "execution_count": 48,
     "metadata": {
      "text/html": {
       "jupyter_ai": {
        "model_id": "gpt-3.5-turbo",
        "provider_id": "openai-chat"
       }
      }
     },
     "output_type": "execute_result"
    }
   ],
   "source": [
    "%%ai openai-chat:gpt-3.5-turbo --format code\n",
    "Write a Python function to filter out only the differentially expressed genes froma dataframe with columns Gene, p-value and LFC. \n",
    "Genes having abs(LFC)>1 and p-value<0.05 should be considered as differentially expressed.Return the results as a list. Write the \n",
    "code using Pandas conditional rules in a single line."
   ]
  },
  {
   "cell_type": "code",
   "execution_count": 50,
   "metadata": {
    "collapsed": true,
    "jupyter": {
     "outputs_hidden": true
    },
    "tags": []
   },
   "outputs": [
    {
     "data": {
      "text/plain": [
       "['DAB2',\n",
       " 'SYT1',\n",
       " 'HLA-DOA',\n",
       " 'RAB3A',\n",
       " 'PNMA3',\n",
       " 'RGS6',\n",
       " 'PTGFRN',\n",
       " 'TRPM8',\n",
       " 'PLA2R1',\n",
       " 'VWA5B2',\n",
       " 'AP3B2',\n",
       " 'ZNF536',\n",
       " 'NAPB',\n",
       " 'KNDC1',\n",
       " 'STON1',\n",
       " 'CTSO',\n",
       " 'RAB3B',\n",
       " 'EPHA10',\n",
       " 'ICAM5',\n",
       " 'SFRP4',\n",
       " 'TUBA4A',\n",
       " 'TMEM132C',\n",
       " 'PLCH2',\n",
       " 'MYT1L',\n",
       " 'TIMP4',\n",
       " 'ANKRD18A',\n",
       " 'UNC13A',\n",
       " 'GALNT13',\n",
       " 'UNC5D',\n",
       " 'UST',\n",
       " 'SYT13',\n",
       " 'LY6H',\n",
       " 'ETNPPL',\n",
       " 'ROGDI',\n",
       " 'CNDP1',\n",
       " 'KHDRBS2',\n",
       " 'RASGRP1',\n",
       " 'LDB3',\n",
       " 'HPCAL4',\n",
       " 'SMIM43',\n",
       " 'SYTL4',\n",
       " 'CDH8',\n",
       " 'CELF3',\n",
       " 'KALRN',\n",
       " 'STX1B',\n",
       " 'SULT4A1',\n",
       " 'MAPK8IP2',\n",
       " 'PXDC1',\n",
       " 'NEFM',\n",
       " 'PRSS3',\n",
       " 'SEZ6L2',\n",
       " 'BTN3A2',\n",
       " 'CPLX1',\n",
       " 'FAM153A',\n",
       " 'LPAR1',\n",
       " 'RAPGEF4',\n",
       " 'RPH3A',\n",
       " 'PGM2L1',\n",
       " 'EFHD1',\n",
       " 'HRH3',\n",
       " 'DUSP8',\n",
       " 'PTPN5',\n",
       " 'AMER2',\n",
       " 'DLGAP2',\n",
       " 'MARCH4',\n",
       " 'ABHD2',\n",
       " 'SEZ6',\n",
       " 'SNAP25',\n",
       " 'TUBB3',\n",
       " 'SPHKAP',\n",
       " 'PITPNM3',\n",
       " 'DLG4',\n",
       " 'TMEM151B',\n",
       " 'GPR37',\n",
       " 'GABRB1',\n",
       " 'COX7A1',\n",
       " 'CDKL1']"
      ]
     },
     "execution_count": 50,
     "metadata": {},
     "output_type": "execute_result"
    }
   ],
   "source": [
    "def get_differentially_expressed_genes(df):\n",
    "    return df[(df['LFC'].abs() > 1) & (df['p-value'] < 0.05)]['Gene'].tolist()\n",
    "diff_expressed_genes = get_differentially_expressed_genes(t_test_results)\n",
    "diff_expressed_genes"
   ]
  },
  {
   "cell_type": "markdown",
   "metadata": {},
   "source": [
    "#### **PCA analysis**"
   ]
  },
  {
   "cell_type": "code",
   "execution_count": 56,
   "metadata": {
    "tags": []
   },
   "outputs": [
    {
     "data": {
      "text/html": [
       "AI generated code inserted below &#11015;&#65039;"
      ],
      "text/plain": [
       "<IPython.core.display.HTML object>"
      ]
     },
     "execution_count": 56,
     "metadata": {
      "text/html": {
       "jupyter_ai": {
        "model_id": "gpt-3.5-turbo",
        "provider_id": "openai-chat"
       }
      }
     },
     "output_type": "execute_result"
    }
   ],
   "source": [
    "%%ai openai-chat:gpt-3.5-turbo --format code\n",
    "Write a Python function that takes a list of features and dataframe as an input. The dataframe contains features as columns except \n",
    "for the last column which is a categorical variable.\n",
    "\n",
    "First, filter out the columns in the dataframe using the provided list of features. \n",
    "\n",
    "Then perform PCA upon the filtered data and visualize the PC_1 and PC_2. Color the samples as per the categorical variable. \n",
    "\n",
    "Use Seaborn for visualization"
   ]
  },
  {
   "cell_type": "code",
   "execution_count": 68,
   "metadata": {
    "tags": []
   },
   "outputs": [
    {
     "data": {
      "image/png": "[encoded data removed]",
      "text/plain": [
       "<Figure size 640x480 with 1 Axes>"
      ]
     },
     "metadata": {},
     "output_type": "display_data"
    }
   ],
   "source": [
    "import pandas as pd\n",
    "from sklearn.decomposition import PCA\n",
    "import seaborn as sns\n",
    "import matplotlib.pyplot as plt\n",
    "\n",
    "def plot_pca(features, data):\n",
    "    filtered_data = data[features]\n",
    "    pca = PCA(n_components=2)\n",
    "    pca_data = pca.fit_transform(filtered_data)\n",
    "    pca_df = pd.DataFrame(data=pca_data, columns=['PC_1', 'PC_2'])\n",
    "    pca_df['Category'] = list(data.iloc[:, -1])\n",
    "    sns.scatterplot(data=pca_df, x='PC_1', y='PC_2', hue='Category')\n",
    "    plt.show()\n",
    "plot_pca(diff_expressed_genes, gene_exp)"
   ]
  },
  {
   "cell_type": "markdown",
   "metadata": {},
   "source": [
    "#### **Enrichment analysis**"
   ]
  },
  {
   "cell_type": "code",
   "execution_count": 79,
   "metadata": {
    "tags": []
   },
   "outputs": [
    {
     "data": {
      "text/html": [
       "AI generated code inserted below &#11015;&#65039;"
      ],
      "text/plain": [
       "<IPython.core.display.HTML object>"
      ]
     },
     "execution_count": 79,
     "metadata": {
      "text/html": {
       "jupyter_ai": {
        "model_id": "gpt-3.5-turbo",
        "provider_id": "openai-chat"
       }
      }
     },
     "output_type": "execute_result"
    }
   ],
   "source": [
    "%%ai openai-chat:gpt-3.5-turbo --format code\n",
    "Write a Python function to perform enrichment analysis using gseapy package. The inputs to the function \n",
    "should be differentially expressed genes. "
   ]
  },
  {
   "cell_type": "code",
   "execution_count": 78,
   "metadata": {
    "tags": []
   },
   "outputs": [
    {
     "data": {
      "text/html": [
       "<div>\n",
       "<style scoped>\n",
       "    .dataframe tbody tr th:only-of-type {\n",
       "        vertical-align: middle;\n",
       "    }\n",
       "\n",
       "    .dataframe tbody tr th {\n",
       "        vertical-align: top;\n",
       "    }\n",
       "\n",
       "    .dataframe thead th {\n",
       "        text-align: right;\n",
       "    }\n",
       "</style>\n",
       "<table border=\"1\" class=\"dataframe\">\n",
       "  <thead>\n",
       "    <tr style=\"text-align: right;\">\n",
       "      <th></th>\n",
       "      <th>Gene_set</th>\n",
       "      <th>Term</th>\n",
       "      <th>Overlap</th>\n",
       "      <th>P-value</th>\n",
       "      <th>Adjusted P-value</th>\n",
       "      <th>Old P-value</th>\n",
       "      <th>Old Adjusted P-value</th>\n",
       "      <th>Odds Ratio</th>\n",
       "      <th>Combined Score</th>\n",
       "      <th>Genes</th>\n",
       "    </tr>\n",
       "  </thead>\n",
       "  <tbody>\n",
       "    <tr>\n",
       "      <th>0</th>\n",
       "      <td>GO_Biological_Process_2018</td>\n",
       "      <td>regulation of regulated secretory pathway (GO:...</td>\n",
       "      <td>5/37</td>\n",
       "      <td>2.934856e-07</td>\n",
       "      <td>0.000073</td>\n",
       "      <td>0</td>\n",
       "      <td>0</td>\n",
       "      <td>43.166233</td>\n",
       "      <td>649.282187</td>\n",
       "      <td>RPH3A;RAB3A;SYT1;SYT13;SYTL4</td>\n",
       "    </tr>\n",
       "    <tr>\n",
       "      <th>1</th>\n",
       "      <td>GO_Biological_Process_2018</td>\n",
       "      <td>organelle membrane fusion (GO:0090174)</td>\n",
       "      <td>6/71</td>\n",
       "      <td>3.135849e-07</td>\n",
       "      <td>0.000073</td>\n",
       "      <td>0</td>\n",
       "      <td>0</td>\n",
       "      <td>25.817551</td>\n",
       "      <td>386.622889</td>\n",
       "      <td>RPH3A;SNAP25;STX1B;SYT1;SYT13;SYTL4</td>\n",
       "    </tr>\n",
       "    <tr>\n",
       "      <th>2</th>\n",
       "      <td>GO_Biological_Process_2018</td>\n",
       "      <td>modulation of chemical synaptic transmission (...</td>\n",
       "      <td>6/82</td>\n",
       "      <td>7.414593e-07</td>\n",
       "      <td>0.000115</td>\n",
       "      <td>0</td>\n",
       "      <td>0</td>\n",
       "      <td>22.068569</td>\n",
       "      <td>311.490034</td>\n",
       "      <td>STX1B;UNC13A;SYT1;DLG4;MAPK8IP2;CPLX1</td>\n",
       "    </tr>\n",
       "    <tr>\n",
       "      <th>3</th>\n",
       "      <td>GO_Biological_Process_2018</td>\n",
       "      <td>regulation of exocytosis (GO:0017157)</td>\n",
       "      <td>5/51</td>\n",
       "      <td>1.516580e-06</td>\n",
       "      <td>0.000129</td>\n",
       "      <td>0</td>\n",
       "      <td>0</td>\n",
       "      <td>30.007548</td>\n",
       "      <td>402.072714</td>\n",
       "      <td>RAB3B;RAB3A;SYT1;SYTL4;CPLX1</td>\n",
       "    </tr>\n",
       "    <tr>\n",
       "      <th>4</th>\n",
       "      <td>GO_Biological_Process_2018</td>\n",
       "      <td>chemical synaptic transmission (GO:0007268)</td>\n",
       "      <td>9/289</td>\n",
       "      <td>1.656182e-06</td>\n",
       "      <td>0.000129</td>\n",
       "      <td>0</td>\n",
       "      <td>0</td>\n",
       "      <td>9.285032</td>\n",
       "      <td>123.593016</td>\n",
       "      <td>SNAP25;NAPB;GABRB1;UNC13A;SYT1;DLG4;DLGAP2;CPL...</td>\n",
       "    </tr>\n",
       "    <tr>\n",
       "      <th>...</th>\n",
       "      <td>...</td>\n",
       "      <td>...</td>\n",
       "      <td>...</td>\n",
       "      <td>...</td>\n",
       "      <td>...</td>\n",
       "      <td>...</td>\n",
       "      <td>...</td>\n",
       "      <td>...</td>\n",
       "      <td>...</td>\n",
       "      <td>...</td>\n",
       "    </tr>\n",
       "    <tr>\n",
       "      <th>462</th>\n",
       "      <td>GO_Biological_Process_2018</td>\n",
       "      <td>regulation of cellular macromolecule biosynthe...</td>\n",
       "      <td>1/631</td>\n",
       "      <td>9.156904e-01</td>\n",
       "      <td>0.923601</td>\n",
       "      <td>0</td>\n",
       "      <td>0</td>\n",
       "      <td>0.402945</td>\n",
       "      <td>0.035490</td>\n",
       "      <td>ZNF536</td>\n",
       "    </tr>\n",
       "    <tr>\n",
       "      <th>463</th>\n",
       "      <td>GO_Biological_Process_2018</td>\n",
       "      <td>regulation of transcription from RNA polymeras...</td>\n",
       "      <td>3/1478</td>\n",
       "      <td>9.305649e-01</td>\n",
       "      <td>0.936582</td>\n",
       "      <td>0</td>\n",
       "      <td>0</td>\n",
       "      <td>0.507045</td>\n",
       "      <td>0.036489</td>\n",
       "      <td>SFRP4;MYT1L;ZNF536</td>\n",
       "    </tr>\n",
       "    <tr>\n",
       "      <th>464</th>\n",
       "      <td>GO_Biological_Process_2018</td>\n",
       "      <td>regulation of cell proliferation (GO:0042127)</td>\n",
       "      <td>1/740</td>\n",
       "      <td>9.454506e-01</td>\n",
       "      <td>0.949517</td>\n",
       "      <td>0</td>\n",
       "      <td>0</td>\n",
       "      <td>0.341571</td>\n",
       "      <td>0.019160</td>\n",
       "      <td>SFRP4</td>\n",
       "    </tr>\n",
       "    <tr>\n",
       "      <th>465</th>\n",
       "      <td>GO_Biological_Process_2018</td>\n",
       "      <td>regulation of transcription, DNA-templated (GO...</td>\n",
       "      <td>3/1598</td>\n",
       "      <td>9.514552e-01</td>\n",
       "      <td>0.953497</td>\n",
       "      <td>0</td>\n",
       "      <td>0</td>\n",
       "      <td>0.465848</td>\n",
       "      <td>0.023182</td>\n",
       "      <td>DAB2;MYT1L;ZNF536</td>\n",
       "    </tr>\n",
       "    <tr>\n",
       "      <th>466</th>\n",
       "      <td>GO_Biological_Process_2018</td>\n",
       "      <td>positive regulation of transcription, DNA-temp...</td>\n",
       "      <td>1/1120</td>\n",
       "      <td>9.882741e-01</td>\n",
       "      <td>0.988274</td>\n",
       "      <td>0</td>\n",
       "      <td>0</td>\n",
       "      <td>0.221109</td>\n",
       "      <td>0.002608</td>\n",
       "      <td>DAB2</td>\n",
       "    </tr>\n",
       "  </tbody>\n",
       "</table>\n",
       "<p>467 rows × 10 columns</p>\n",
       "</div>"
      ],
      "text/plain": [
       "                       Gene_set  \\\n",
       "0    GO_Biological_Process_2018   \n",
       "1    GO_Biological_Process_2018   \n",
       "2    GO_Biological_Process_2018   \n",
       "3    GO_Biological_Process_2018   \n",
       "4    GO_Biological_Process_2018   \n",
       "..                          ...   \n",
       "462  GO_Biological_Process_2018   \n",
       "463  GO_Biological_Process_2018   \n",
       "464  GO_Biological_Process_2018   \n",
       "465  GO_Biological_Process_2018   \n",
       "466  GO_Biological_Process_2018   \n",
       "\n",
       "                                                  Term Overlap       P-value  \\\n",
       "0    regulation of regulated secretory pathway (GO:...    5/37  2.934856e-07   \n",
       "1               organelle membrane fusion (GO:0090174)    6/71  3.135849e-07   \n",
       "2    modulation of chemical synaptic transmission (...    6/82  7.414593e-07   \n",
       "3                regulation of exocytosis (GO:0017157)    5/51  1.516580e-06   \n",
       "4          chemical synaptic transmission (GO:0007268)   9/289  1.656182e-06   \n",
       "..                                                 ...     ...           ...   \n",
       "462  regulation of cellular macromolecule biosynthe...   1/631  9.156904e-01   \n",
       "463  regulation of transcription from RNA polymeras...  3/1478  9.305649e-01   \n",
       "464      regulation of cell proliferation (GO:0042127)   1/740  9.454506e-01   \n",
       "465  regulation of transcription, DNA-templated (GO...  3/1598  9.514552e-01   \n",
       "466  positive regulation of transcription, DNA-temp...  1/1120  9.882741e-01   \n",
       "\n",
       "     Adjusted P-value  Old P-value  Old Adjusted P-value  Odds Ratio  \\\n",
       "0            0.000073            0                     0   43.166233   \n",
       "1            0.000073            0                     0   25.817551   \n",
       "2            0.000115            0                     0   22.068569   \n",
       "3            0.000129            0                     0   30.007548   \n",
       "4            0.000129            0                     0    9.285032   \n",
       "..                ...          ...                   ...         ...   \n",
       "462          0.923601            0                     0    0.402945   \n",
       "463          0.936582            0                     0    0.507045   \n",
       "464          0.949517            0                     0    0.341571   \n",
       "465          0.953497            0                     0    0.465848   \n",
       "466          0.988274            0                     0    0.221109   \n",
       "\n",
       "     Combined Score                                              Genes  \n",
       "0        649.282187                       RPH3A;RAB3A;SYT1;SYT13;SYTL4  \n",
       "1        386.622889                RPH3A;SNAP25;STX1B;SYT1;SYT13;SYTL4  \n",
       "2        311.490034              STX1B;UNC13A;SYT1;DLG4;MAPK8IP2;CPLX1  \n",
       "3        402.072714                       RAB3B;RAB3A;SYT1;SYTL4;CPLX1  \n",
       "4        123.593016  SNAP25;NAPB;GABRB1;UNC13A;SYT1;DLG4;DLGAP2;CPL...  \n",
       "..              ...                                                ...  \n",
       "462        0.035490                                             ZNF536  \n",
       "463        0.036489                                 SFRP4;MYT1L;ZNF536  \n",
       "464        0.019160                                              SFRP4  \n",
       "465        0.023182                                  DAB2;MYT1L;ZNF536  \n",
       "466        0.002608                                               DAB2  \n",
       "\n",
       "[467 rows x 10 columns]"
      ]
     },
     "execution_count": 78,
     "metadata": {},
     "output_type": "execute_result"
    }
   ],
   "source": [
    "def perform_enrichment_analysis(differentially_expressed_genes):\n",
    "    import gseapy\n",
    "\n",
    "    # Set up the required inputs for gseapy\n",
    "    gene_list = differentially_expressed_genes\n",
    "    gene_sets = 'GO_Biological_Process_2018'\n",
    "    organism = 'human'\n",
    "    enrichment_method = 'gseapy.prerank'\n",
    "\n",
    "    # Perform enrichment analysis\n",
    "    enr_results = gseapy.enrichr(gene_list=gene_list, gene_sets=gene_sets, organism=organism,\n",
    "                                )\n",
    "\n",
    "    return enr_results\n",
    "\n",
    "# Example usage:\n",
    "enrichment_results = perform_enrichment_analysis(diff_expressed_genes)\n",
    "enrichment_results.results"
   ]
  },
  {
   "cell_type": "markdown",
   "metadata": {
    "tags": []
   },
   "source": [
    "#### **Machine learning analysis**"
   ]
  },
  {
   "cell_type": "code",
   "execution_count": 86,
   "metadata": {
    "tags": []
   },
   "outputs": [
    {
     "data": {
      "text/html": [
       "AI generated code inserted below &#11015;&#65039;"
      ],
      "text/plain": [
       "<IPython.core.display.HTML object>"
      ]
     },
     "execution_count": 86,
     "metadata": {
      "text/html": {
       "jupyter_ai": {
        "model_id": "gpt-3.5-turbo",
        "provider_id": "openai-chat"
       }
      }
     },
     "output_type": "execute_result"
    }
   ],
   "source": [
    "%%ai openai-chat:gpt-3.5-turbo --format code\n",
    "You are given a dataframe having features as columns with the last column being a binary categorical variable. Design a Python\n",
    "function to build a loistic regression model that predicts the categorical variable. Split the data in training and test set \n",
    "in the ration of 70:30. Report the test-set accuracy, AUROC, precision, and recall. Also plot the ROC curve."
   ]
  },
  {
   "cell_type": "code",
   "execution_count": 88,
   "metadata": {
    "tags": []
   },
   "outputs": [
    {
     "name": "stderr",
     "output_type": "stream",
     "text": [
      "/home/dasn6/miniconda3/envs/genai-workshop/lib/python3.11/site-packages/sklearn/linear_model/_logistic.py:460: ConvergenceWarning: lbfgs failed to converge (status=1):\n",
      "STOP: TOTAL NO. of ITERATIONS REACHED LIMIT.\n",
      "\n",
      "Increase the number of iterations (max_iter) or scale the data as shown in:\n",
      "    https://scikit-learn.org/stable/modules/preprocessing.html\n",
      "Please also refer to the documentation for alternative solver options:\n",
      "    https://scikit-learn.org/stable/modules/linear_model.html#logistic-regression\n",
      "  n_iter_i = _check_optimize_result(\n"
     ]
    },
    {
     "data": {
      "image/png": "[encoded data removed]",
      "text/plain": [
       "<Figure size 640x480 with 1 Axes>"
      ]
     },
     "metadata": {},
     "output_type": "display_data"
    },
    {
     "name": "stdout",
     "output_type": "stream",
     "text": [
      "Test Set Accuracy: 0.7272727272727273\n",
      "AUROC: 0.8333333333333334\n",
      "Precision: 0.8\n",
      "Recall: 0.6666666666666666\n"
     ]
    }
   ],
   "source": [
    "import pandas as pd\n",
    "from sklearn.model_selection import train_test_split\n",
    "from sklearn.linear_model import LogisticRegression\n",
    "from sklearn.metrics import accuracy_score, roc_auc_score, precision_score, recall_score, roc_curve\n",
    "import matplotlib.pyplot as plt\n",
    "\n",
    "def build_logistic_regression_model(df):\n",
    "    X = df.iloc[:, :-1].values\n",
    "    y = df.iloc[:, -1].values\n",
    "    \n",
    "    X_train, X_test, y_train, y_test = train_test_split(X, y, test_size=0.3, random_state=42)\n",
    "    \n",
    "    model = LogisticRegression()\n",
    "    model.fit(X_train, y_train)\n",
    "    \n",
    "    y_pred = model.predict(X_test)\n",
    "    y_pred_proba = model.predict_proba(X_test)[:, 1]\n",
    "    \n",
    "    accuracy = accuracy_score(y_test, y_pred)\n",
    "    auroc = roc_auc_score(y_test, y_pred_proba)\n",
    "    precision = precision_score(y_test, y_pred)\n",
    "    recall = recall_score(y_test, y_pred)\n",
    "    \n",
    "    fpr, tpr, _ = roc_curve(y_test, y_pred_proba)\n",
    "    \n",
    "    plt.plot(fpr, tpr)\n",
    "    plt.xlabel('False Positive Rate')\n",
    "    plt.ylabel('True Positive Rate')\n",
    "    plt.title('ROC Curve')\n",
    "    plt.show()\n",
    "    \n",
    "    return accuracy, auroc, precision, recall\n",
    "\n",
    "# Example usage:\n",
    "gene_exp.replace({'GNG':0, 'MBL':1}, inplace = True)\n",
    "accuracy, auroc, precision, recall = build_logistic_regression_model(gene_exp)\n",
    "print(\"Test Set Accuracy:\", accuracy)\n",
    "print(\"AUROC:\", auroc)\n",
    "print(\"Precision:\", precision)\n",
    "print(\"Recall:\", recall)"
   ]
  },
  {
   "cell_type": "code",
   "execution_count": null,
   "metadata": {
    "id": "ZVXDAqr3sqdv"
   },
   "outputs": [],
   "source": []
  }
 ],
 "metadata": {
  "colab": {
   "provenance": []
  },
  "kernelspec": {
   "display_name": "Python 3 (ipykernel)",
   "language": "python",
   "name": "python3"
  },
  "language_info": {
   "codemirror_mode": {
    "name": "ipython",
    "version": 3
   },
   "file_extension": ".py",
   "mimetype": "text/x-python",
   "name": "python",
   "nbconvert_exporter": "python",
   "pygments_lexer": "ipython3",
   "version": "3.11.7"
  }
 },
 "nbformat": 4,
 "nbformat_minor": 4
}
